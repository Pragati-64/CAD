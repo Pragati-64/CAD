{
  "nbformat": 4,
  "nbformat_minor": 0,
  "metadata": {
    "colab": {
      "name": "CAD.ipynb",
      "provenance": [],
      "collapsed_sections": [
        "78lt-HFDwl_g",
        "fIZBGXu_Qf0c",
        "toHnJ1xOmKvX",
        "ZILB3fgSix__",
        "LDA1AE1DnX6s",
        "fygeyp2JpGcM",
        "Xb5Pr725sVE8"
      ],
      "authorship_tag": "ABX9TyNZ7SWDNf2BJS3pamovPqm9",
      "include_colab_link": true
    },
    "kernelspec": {
      "name": "python3",
      "display_name": "Python 3"
    },
    "language_info": {
      "name": "python"
    }
  },
  "cells": [
    {
      "cell_type": "markdown",
      "metadata": {
        "id": "view-in-github",
        "colab_type": "text"
      },
      "source": [
        "<a href=\"https://colab.research.google.com/github/Pragati-64/CAD/blob/master/CAD.ipynb\" target=\"_parent\"><img src=\"https://colab.research.google.com/assets/colab-badge.svg\" alt=\"Open In Colab\"/></a>"
      ]
    },
    {
      "cell_type": "markdown",
      "source": [
        "###IMPORT LIBRARY"
      ],
      "metadata": {
        "id": "pMLtYfkNZVYS"
      }
    },
    {
      "cell_type": "code",
      "source": [
        "!pip install Boruta"
      ],
      "metadata": {
        "id": "tpiOxauWbQP6",
        "colab": {
          "base_uri": "https://localhost:8080/"
        },
        "outputId": "a5f0c538-0efe-4635-94f0-9586a792b606"
      },
      "execution_count": 56,
      "outputs": [
        {
          "output_type": "stream",
          "name": "stdout",
          "text": [
            "Looking in indexes: https://pypi.org/simple, https://us-python.pkg.dev/colab-wheels/public/simple/\n",
            "Requirement already satisfied: Boruta in /usr/local/lib/python3.7/dist-packages (0.3)\n",
            "Requirement already satisfied: numpy>=1.10.4 in /usr/local/lib/python3.7/dist-packages (from Boruta) (1.21.6)\n",
            "Requirement already satisfied: scikit-learn>=0.17.1 in /usr/local/lib/python3.7/dist-packages (from Boruta) (1.0.2)\n",
            "Requirement already satisfied: scipy>=0.17.0 in /usr/local/lib/python3.7/dist-packages (from Boruta) (1.7.3)\n",
            "Requirement already satisfied: joblib>=0.11 in /usr/local/lib/python3.7/dist-packages (from scikit-learn>=0.17.1->Boruta) (1.1.0)\n",
            "Requirement already satisfied: threadpoolctl>=2.0.0 in /usr/local/lib/python3.7/dist-packages (from scikit-learn>=0.17.1->Boruta) (3.1.0)\n"
          ]
        }
      ]
    },
    {
      "cell_type": "code",
      "execution_count": 57,
      "metadata": {
        "id": "4I7phEnrOclf"
      },
      "outputs": [],
      "source": [
        "import pandas as pd\n",
        "import numpy as np\n",
        "import matplotlib.pyplot as plt\n",
        "\n",
        "from sklearn.model_selection import train_test_split\n",
        "#scaling\n",
        "from sklearn.preprocessing import StandardScaler , MinMaxScaler\n",
        "#models\n",
        "from sklearn.linear_model import LogisticRegression\n",
        "from sklearn.tree import DecisionTreeClassifier\n",
        "from sklearn.ensemble import RandomForestClassifier\n",
        "from sklearn.svm import SVC\n",
        "from sklearn.neighbors import KNeighborsClassifier\n",
        "\n",
        "#accuracy\n",
        "from sklearn.metrics import mean_squared_error , accuracy_score , confusion_matrix, ConfusionMatrixDisplay , classification_report\n",
        "\n",
        "# boruta feature selection\n",
        "\n",
        "from boruta import BorutaPy\n",
        "from sklearn.model_selection import GridSearchCV\n",
        "\n",
        "# Create the parameter grid based on the results of random search \n",
        "param_grid = {\n",
        "    'bootstrap': [True, False],\n",
        "    'max_depth': [5, 10, 15],\n",
        "    'n_estimators': [500, 1000]}\n",
        "\n",
        "\n",
        "#For DFE\n",
        "import sklearn\n",
        "from sklearn import feature_selection\n",
        "from sklearn.datasets import make_classification\n",
        "from sklearn.feature_selection import RFECV\n",
        "\n",
        "from sklearn.model_selection import StratifiedKFold\n",
        "\n",
        "# Data Visualization\n",
        "import seaborn as sns # checking data balancing(heat map)\n",
        "import plotly.express as px # Data Visualization\n",
        "import matplotlib.pyplot as plt # heat map figure size\n",
        "\n",
        "from sklearn.model_selection import StratifiedKFold\n",
        "\n",
        "from sklearn.preprocessing import MinMaxScaler\n",
        "from sklearn.ensemble import GradientBoostingClassifier\n",
        "\n"
      ]
    },
    {
      "cell_type": "markdown",
      "source": [
        "### LOAD DATASET"
      ],
      "metadata": {
        "id": "oDYLeXleYljf"
      }
    },
    {
      "cell_type": "code",
      "source": [
        "data_set=pd.ExcelFile('/content/Z-Alizadeh sani dataset.xlsx')"
      ],
      "metadata": {
        "id": "yL-y-iP8QQUC"
      },
      "execution_count": 58,
      "outputs": []
    },
    {
      "cell_type": "code",
      "source": [
        "df=data_set.parse('CAD_DATA',na_values='?')   "
      ],
      "metadata": {
        "id": "Qlz606YFQW2u"
      },
      "execution_count": 59,
      "outputs": []
    },
    {
      "cell_type": "code",
      "source": [
        "df.head(5)"
      ],
      "metadata": {
        "colab": {
          "base_uri": "https://localhost:8080/",
          "height": 0
        },
        "id": "UMGjivb9U1y2",
        "outputId": "55bfd91e-23cc-4d8a-a805-5e2878866c37"
      },
      "execution_count": 60,
      "outputs": [
        {
          "output_type": "execute_result",
          "data": {
            "text/plain": [
              "   Age  Weight  Length    Sex        BMI  DM  HTN  Current Smoker  EX-Smoker  \\\n",
              "0   53      90     175   Male  29.387755   0    1               1          0   \n",
              "1   67      70     157  Fmale  28.398718   0    1               0          0   \n",
              "2   54      54     164   Male  20.077335   0    0               1          0   \n",
              "3   66      67     158  Fmale  26.838648   0    1               0          0   \n",
              "4   50      87     153  Fmale  37.165193   0    1               0          0   \n",
              "\n",
              "   FH  ...    K   Na    WBC Lymph Neut  PLT EF-TTE  Region RWMA     VHD  \\\n",
              "0   0  ...  4.7  141   5700    39   52  261     50            0       N   \n",
              "1   0  ...  4.7  156   7700    38   55  165     40            4       N   \n",
              "2   0  ...  4.7  139   7400    38   60  230     40            2    mild   \n",
              "3   0  ...  4.4  142  13000    18   72  742     55            0  Severe   \n",
              "4   0  ...  4.0  140   9200    55   39  274     50            0  Severe   \n",
              "\n",
              "     Cath  \n",
              "0     Cad  \n",
              "1     Cad  \n",
              "2     Cad  \n",
              "3  Normal  \n",
              "4  Normal  \n",
              "\n",
              "[5 rows x 56 columns]"
            ],
            "text/html": [
              "\n",
              "  <div id=\"df-7164cbbc-0cda-437b-91c3-9248f9a3713c\">\n",
              "    <div class=\"colab-df-container\">\n",
              "      <div>\n",
              "<style scoped>\n",
              "    .dataframe tbody tr th:only-of-type {\n",
              "        vertical-align: middle;\n",
              "    }\n",
              "\n",
              "    .dataframe tbody tr th {\n",
              "        vertical-align: top;\n",
              "    }\n",
              "\n",
              "    .dataframe thead th {\n",
              "        text-align: right;\n",
              "    }\n",
              "</style>\n",
              "<table border=\"1\" class=\"dataframe\">\n",
              "  <thead>\n",
              "    <tr style=\"text-align: right;\">\n",
              "      <th></th>\n",
              "      <th>Age</th>\n",
              "      <th>Weight</th>\n",
              "      <th>Length</th>\n",
              "      <th>Sex</th>\n",
              "      <th>BMI</th>\n",
              "      <th>DM</th>\n",
              "      <th>HTN</th>\n",
              "      <th>Current Smoker</th>\n",
              "      <th>EX-Smoker</th>\n",
              "      <th>FH</th>\n",
              "      <th>...</th>\n",
              "      <th>K</th>\n",
              "      <th>Na</th>\n",
              "      <th>WBC</th>\n",
              "      <th>Lymph</th>\n",
              "      <th>Neut</th>\n",
              "      <th>PLT</th>\n",
              "      <th>EF-TTE</th>\n",
              "      <th>Region RWMA</th>\n",
              "      <th>VHD</th>\n",
              "      <th>Cath</th>\n",
              "    </tr>\n",
              "  </thead>\n",
              "  <tbody>\n",
              "    <tr>\n",
              "      <th>0</th>\n",
              "      <td>53</td>\n",
              "      <td>90</td>\n",
              "      <td>175</td>\n",
              "      <td>Male</td>\n",
              "      <td>29.387755</td>\n",
              "      <td>0</td>\n",
              "      <td>1</td>\n",
              "      <td>1</td>\n",
              "      <td>0</td>\n",
              "      <td>0</td>\n",
              "      <td>...</td>\n",
              "      <td>4.7</td>\n",
              "      <td>141</td>\n",
              "      <td>5700</td>\n",
              "      <td>39</td>\n",
              "      <td>52</td>\n",
              "      <td>261</td>\n",
              "      <td>50</td>\n",
              "      <td>0</td>\n",
              "      <td>N</td>\n",
              "      <td>Cad</td>\n",
              "    </tr>\n",
              "    <tr>\n",
              "      <th>1</th>\n",
              "      <td>67</td>\n",
              "      <td>70</td>\n",
              "      <td>157</td>\n",
              "      <td>Fmale</td>\n",
              "      <td>28.398718</td>\n",
              "      <td>0</td>\n",
              "      <td>1</td>\n",
              "      <td>0</td>\n",
              "      <td>0</td>\n",
              "      <td>0</td>\n",
              "      <td>...</td>\n",
              "      <td>4.7</td>\n",
              "      <td>156</td>\n",
              "      <td>7700</td>\n",
              "      <td>38</td>\n",
              "      <td>55</td>\n",
              "      <td>165</td>\n",
              "      <td>40</td>\n",
              "      <td>4</td>\n",
              "      <td>N</td>\n",
              "      <td>Cad</td>\n",
              "    </tr>\n",
              "    <tr>\n",
              "      <th>2</th>\n",
              "      <td>54</td>\n",
              "      <td>54</td>\n",
              "      <td>164</td>\n",
              "      <td>Male</td>\n",
              "      <td>20.077335</td>\n",
              "      <td>0</td>\n",
              "      <td>0</td>\n",
              "      <td>1</td>\n",
              "      <td>0</td>\n",
              "      <td>0</td>\n",
              "      <td>...</td>\n",
              "      <td>4.7</td>\n",
              "      <td>139</td>\n",
              "      <td>7400</td>\n",
              "      <td>38</td>\n",
              "      <td>60</td>\n",
              "      <td>230</td>\n",
              "      <td>40</td>\n",
              "      <td>2</td>\n",
              "      <td>mild</td>\n",
              "      <td>Cad</td>\n",
              "    </tr>\n",
              "    <tr>\n",
              "      <th>3</th>\n",
              "      <td>66</td>\n",
              "      <td>67</td>\n",
              "      <td>158</td>\n",
              "      <td>Fmale</td>\n",
              "      <td>26.838648</td>\n",
              "      <td>0</td>\n",
              "      <td>1</td>\n",
              "      <td>0</td>\n",
              "      <td>0</td>\n",
              "      <td>0</td>\n",
              "      <td>...</td>\n",
              "      <td>4.4</td>\n",
              "      <td>142</td>\n",
              "      <td>13000</td>\n",
              "      <td>18</td>\n",
              "      <td>72</td>\n",
              "      <td>742</td>\n",
              "      <td>55</td>\n",
              "      <td>0</td>\n",
              "      <td>Severe</td>\n",
              "      <td>Normal</td>\n",
              "    </tr>\n",
              "    <tr>\n",
              "      <th>4</th>\n",
              "      <td>50</td>\n",
              "      <td>87</td>\n",
              "      <td>153</td>\n",
              "      <td>Fmale</td>\n",
              "      <td>37.165193</td>\n",
              "      <td>0</td>\n",
              "      <td>1</td>\n",
              "      <td>0</td>\n",
              "      <td>0</td>\n",
              "      <td>0</td>\n",
              "      <td>...</td>\n",
              "      <td>4.0</td>\n",
              "      <td>140</td>\n",
              "      <td>9200</td>\n",
              "      <td>55</td>\n",
              "      <td>39</td>\n",
              "      <td>274</td>\n",
              "      <td>50</td>\n",
              "      <td>0</td>\n",
              "      <td>Severe</td>\n",
              "      <td>Normal</td>\n",
              "    </tr>\n",
              "  </tbody>\n",
              "</table>\n",
              "<p>5 rows × 56 columns</p>\n",
              "</div>\n",
              "      <button class=\"colab-df-convert\" onclick=\"convertToInteractive('df-7164cbbc-0cda-437b-91c3-9248f9a3713c')\"\n",
              "              title=\"Convert this dataframe to an interactive table.\"\n",
              "              style=\"display:none;\">\n",
              "        \n",
              "  <svg xmlns=\"http://www.w3.org/2000/svg\" height=\"24px\"viewBox=\"0 0 24 24\"\n",
              "       width=\"24px\">\n",
              "    <path d=\"M0 0h24v24H0V0z\" fill=\"none\"/>\n",
              "    <path d=\"M18.56 5.44l.94 2.06.94-2.06 2.06-.94-2.06-.94-.94-2.06-.94 2.06-2.06.94zm-11 1L8.5 8.5l.94-2.06 2.06-.94-2.06-.94L8.5 2.5l-.94 2.06-2.06.94zm10 10l.94 2.06.94-2.06 2.06-.94-2.06-.94-.94-2.06-.94 2.06-2.06.94z\"/><path d=\"M17.41 7.96l-1.37-1.37c-.4-.4-.92-.59-1.43-.59-.52 0-1.04.2-1.43.59L10.3 9.45l-7.72 7.72c-.78.78-.78 2.05 0 2.83L4 21.41c.39.39.9.59 1.41.59.51 0 1.02-.2 1.41-.59l7.78-7.78 2.81-2.81c.8-.78.8-2.07 0-2.86zM5.41 20L4 18.59l7.72-7.72 1.47 1.35L5.41 20z\"/>\n",
              "  </svg>\n",
              "      </button>\n",
              "      \n",
              "  <style>\n",
              "    .colab-df-container {\n",
              "      display:flex;\n",
              "      flex-wrap:wrap;\n",
              "      gap: 12px;\n",
              "    }\n",
              "\n",
              "    .colab-df-convert {\n",
              "      background-color: #E8F0FE;\n",
              "      border: none;\n",
              "      border-radius: 50%;\n",
              "      cursor: pointer;\n",
              "      display: none;\n",
              "      fill: #1967D2;\n",
              "      height: 32px;\n",
              "      padding: 0 0 0 0;\n",
              "      width: 32px;\n",
              "    }\n",
              "\n",
              "    .colab-df-convert:hover {\n",
              "      background-color: #E2EBFA;\n",
              "      box-shadow: 0px 1px 2px rgba(60, 64, 67, 0.3), 0px 1px 3px 1px rgba(60, 64, 67, 0.15);\n",
              "      fill: #174EA6;\n",
              "    }\n",
              "\n",
              "    [theme=dark] .colab-df-convert {\n",
              "      background-color: #3B4455;\n",
              "      fill: #D2E3FC;\n",
              "    }\n",
              "\n",
              "    [theme=dark] .colab-df-convert:hover {\n",
              "      background-color: #434B5C;\n",
              "      box-shadow: 0px 1px 3px 1px rgba(0, 0, 0, 0.15);\n",
              "      filter: drop-shadow(0px 1px 2px rgba(0, 0, 0, 0.3));\n",
              "      fill: #FFFFFF;\n",
              "    }\n",
              "  </style>\n",
              "\n",
              "      <script>\n",
              "        const buttonEl =\n",
              "          document.querySelector('#df-7164cbbc-0cda-437b-91c3-9248f9a3713c button.colab-df-convert');\n",
              "        buttonEl.style.display =\n",
              "          google.colab.kernel.accessAllowed ? 'block' : 'none';\n",
              "\n",
              "        async function convertToInteractive(key) {\n",
              "          const element = document.querySelector('#df-7164cbbc-0cda-437b-91c3-9248f9a3713c');\n",
              "          const dataTable =\n",
              "            await google.colab.kernel.invokeFunction('convertToInteractive',\n",
              "                                                     [key], {});\n",
              "          if (!dataTable) return;\n",
              "\n",
              "          const docLinkHtml = 'Like what you see? Visit the ' +\n",
              "            '<a target=\"_blank\" href=https://colab.research.google.com/notebooks/data_table.ipynb>data table notebook</a>'\n",
              "            + ' to learn more about interactive tables.';\n",
              "          element.innerHTML = '';\n",
              "          dataTable['output_type'] = 'display_data';\n",
              "          await google.colab.output.renderOutput(dataTable, element);\n",
              "          const docLink = document.createElement('div');\n",
              "          docLink.innerHTML = docLinkHtml;\n",
              "          element.appendChild(docLink);\n",
              "        }\n",
              "      </script>\n",
              "    </div>\n",
              "  </div>\n",
              "  "
            ]
          },
          "metadata": {},
          "execution_count": 60
        }
      ]
    },
    {
      "cell_type": "code",
      "source": [
        "df.tail()"
      ],
      "metadata": {
        "colab": {
          "base_uri": "https://localhost:8080/",
          "height": 0
        },
        "id": "uapqRN8FZibE",
        "outputId": "217557eb-1f98-4e32-d97b-1ed0fb832168"
      },
      "execution_count": 61,
      "outputs": [
        {
          "output_type": "execute_result",
          "data": {
            "text/plain": [
              "     Age  Weight  Length    Sex        BMI  DM  HTN  Current Smoker  \\\n",
              "298   58      84     168   Male  29.761905   0    0               0   \n",
              "299   55      64     152  Fmale  27.700831   0    0               0   \n",
              "300   48      77     160  Fmale  30.078125   0    1               0   \n",
              "301   57      90     159  Fmale  35.599858   1    0               0   \n",
              "302   56      85     170  Fmale  29.411765   0    1               1   \n",
              "\n",
              "     EX-Smoker  FH  ...    K   Na    WBC Lymph Neut  PLT EF-TTE  Region RWMA  \\\n",
              "298          0   0  ...  4.8  146   8500    34   58  251     45            0   \n",
              "299          0   0  ...  4.0  139  11400    16   80  377     40            0   \n",
              "300          0   1  ...  4.0  140   9000    35   55  279     55            0   \n",
              "301          0   0  ...  3.8  141   3800    48   40  208     55            0   \n",
              "302          0   0  ...  4.4  147   6000    32   55  302     55            0   \n",
              "\n",
              "      VHD    Cath  \n",
              "298     N     Cad  \n",
              "299  mild  Normal  \n",
              "300     N  Normal  \n",
              "301     N  Normal  \n",
              "302     N     Cad  \n",
              "\n",
              "[5 rows x 56 columns]"
            ],
            "text/html": [
              "\n",
              "  <div id=\"df-ebab464b-bd06-4212-86da-12fa9836a4d8\">\n",
              "    <div class=\"colab-df-container\">\n",
              "      <div>\n",
              "<style scoped>\n",
              "    .dataframe tbody tr th:only-of-type {\n",
              "        vertical-align: middle;\n",
              "    }\n",
              "\n",
              "    .dataframe tbody tr th {\n",
              "        vertical-align: top;\n",
              "    }\n",
              "\n",
              "    .dataframe thead th {\n",
              "        text-align: right;\n",
              "    }\n",
              "</style>\n",
              "<table border=\"1\" class=\"dataframe\">\n",
              "  <thead>\n",
              "    <tr style=\"text-align: right;\">\n",
              "      <th></th>\n",
              "      <th>Age</th>\n",
              "      <th>Weight</th>\n",
              "      <th>Length</th>\n",
              "      <th>Sex</th>\n",
              "      <th>BMI</th>\n",
              "      <th>DM</th>\n",
              "      <th>HTN</th>\n",
              "      <th>Current Smoker</th>\n",
              "      <th>EX-Smoker</th>\n",
              "      <th>FH</th>\n",
              "      <th>...</th>\n",
              "      <th>K</th>\n",
              "      <th>Na</th>\n",
              "      <th>WBC</th>\n",
              "      <th>Lymph</th>\n",
              "      <th>Neut</th>\n",
              "      <th>PLT</th>\n",
              "      <th>EF-TTE</th>\n",
              "      <th>Region RWMA</th>\n",
              "      <th>VHD</th>\n",
              "      <th>Cath</th>\n",
              "    </tr>\n",
              "  </thead>\n",
              "  <tbody>\n",
              "    <tr>\n",
              "      <th>298</th>\n",
              "      <td>58</td>\n",
              "      <td>84</td>\n",
              "      <td>168</td>\n",
              "      <td>Male</td>\n",
              "      <td>29.761905</td>\n",
              "      <td>0</td>\n",
              "      <td>0</td>\n",
              "      <td>0</td>\n",
              "      <td>0</td>\n",
              "      <td>0</td>\n",
              "      <td>...</td>\n",
              "      <td>4.8</td>\n",
              "      <td>146</td>\n",
              "      <td>8500</td>\n",
              "      <td>34</td>\n",
              "      <td>58</td>\n",
              "      <td>251</td>\n",
              "      <td>45</td>\n",
              "      <td>0</td>\n",
              "      <td>N</td>\n",
              "      <td>Cad</td>\n",
              "    </tr>\n",
              "    <tr>\n",
              "      <th>299</th>\n",
              "      <td>55</td>\n",
              "      <td>64</td>\n",
              "      <td>152</td>\n",
              "      <td>Fmale</td>\n",
              "      <td>27.700831</td>\n",
              "      <td>0</td>\n",
              "      <td>0</td>\n",
              "      <td>0</td>\n",
              "      <td>0</td>\n",
              "      <td>0</td>\n",
              "      <td>...</td>\n",
              "      <td>4.0</td>\n",
              "      <td>139</td>\n",
              "      <td>11400</td>\n",
              "      <td>16</td>\n",
              "      <td>80</td>\n",
              "      <td>377</td>\n",
              "      <td>40</td>\n",
              "      <td>0</td>\n",
              "      <td>mild</td>\n",
              "      <td>Normal</td>\n",
              "    </tr>\n",
              "    <tr>\n",
              "      <th>300</th>\n",
              "      <td>48</td>\n",
              "      <td>77</td>\n",
              "      <td>160</td>\n",
              "      <td>Fmale</td>\n",
              "      <td>30.078125</td>\n",
              "      <td>0</td>\n",
              "      <td>1</td>\n",
              "      <td>0</td>\n",
              "      <td>0</td>\n",
              "      <td>1</td>\n",
              "      <td>...</td>\n",
              "      <td>4.0</td>\n",
              "      <td>140</td>\n",
              "      <td>9000</td>\n",
              "      <td>35</td>\n",
              "      <td>55</td>\n",
              "      <td>279</td>\n",
              "      <td>55</td>\n",
              "      <td>0</td>\n",
              "      <td>N</td>\n",
              "      <td>Normal</td>\n",
              "    </tr>\n",
              "    <tr>\n",
              "      <th>301</th>\n",
              "      <td>57</td>\n",
              "      <td>90</td>\n",
              "      <td>159</td>\n",
              "      <td>Fmale</td>\n",
              "      <td>35.599858</td>\n",
              "      <td>1</td>\n",
              "      <td>0</td>\n",
              "      <td>0</td>\n",
              "      <td>0</td>\n",
              "      <td>0</td>\n",
              "      <td>...</td>\n",
              "      <td>3.8</td>\n",
              "      <td>141</td>\n",
              "      <td>3800</td>\n",
              "      <td>48</td>\n",
              "      <td>40</td>\n",
              "      <td>208</td>\n",
              "      <td>55</td>\n",
              "      <td>0</td>\n",
              "      <td>N</td>\n",
              "      <td>Normal</td>\n",
              "    </tr>\n",
              "    <tr>\n",
              "      <th>302</th>\n",
              "      <td>56</td>\n",
              "      <td>85</td>\n",
              "      <td>170</td>\n",
              "      <td>Fmale</td>\n",
              "      <td>29.411765</td>\n",
              "      <td>0</td>\n",
              "      <td>1</td>\n",
              "      <td>1</td>\n",
              "      <td>0</td>\n",
              "      <td>0</td>\n",
              "      <td>...</td>\n",
              "      <td>4.4</td>\n",
              "      <td>147</td>\n",
              "      <td>6000</td>\n",
              "      <td>32</td>\n",
              "      <td>55</td>\n",
              "      <td>302</td>\n",
              "      <td>55</td>\n",
              "      <td>0</td>\n",
              "      <td>N</td>\n",
              "      <td>Cad</td>\n",
              "    </tr>\n",
              "  </tbody>\n",
              "</table>\n",
              "<p>5 rows × 56 columns</p>\n",
              "</div>\n",
              "      <button class=\"colab-df-convert\" onclick=\"convertToInteractive('df-ebab464b-bd06-4212-86da-12fa9836a4d8')\"\n",
              "              title=\"Convert this dataframe to an interactive table.\"\n",
              "              style=\"display:none;\">\n",
              "        \n",
              "  <svg xmlns=\"http://www.w3.org/2000/svg\" height=\"24px\"viewBox=\"0 0 24 24\"\n",
              "       width=\"24px\">\n",
              "    <path d=\"M0 0h24v24H0V0z\" fill=\"none\"/>\n",
              "    <path d=\"M18.56 5.44l.94 2.06.94-2.06 2.06-.94-2.06-.94-.94-2.06-.94 2.06-2.06.94zm-11 1L8.5 8.5l.94-2.06 2.06-.94-2.06-.94L8.5 2.5l-.94 2.06-2.06.94zm10 10l.94 2.06.94-2.06 2.06-.94-2.06-.94-.94-2.06-.94 2.06-2.06.94z\"/><path d=\"M17.41 7.96l-1.37-1.37c-.4-.4-.92-.59-1.43-.59-.52 0-1.04.2-1.43.59L10.3 9.45l-7.72 7.72c-.78.78-.78 2.05 0 2.83L4 21.41c.39.39.9.59 1.41.59.51 0 1.02-.2 1.41-.59l7.78-7.78 2.81-2.81c.8-.78.8-2.07 0-2.86zM5.41 20L4 18.59l7.72-7.72 1.47 1.35L5.41 20z\"/>\n",
              "  </svg>\n",
              "      </button>\n",
              "      \n",
              "  <style>\n",
              "    .colab-df-container {\n",
              "      display:flex;\n",
              "      flex-wrap:wrap;\n",
              "      gap: 12px;\n",
              "    }\n",
              "\n",
              "    .colab-df-convert {\n",
              "      background-color: #E8F0FE;\n",
              "      border: none;\n",
              "      border-radius: 50%;\n",
              "      cursor: pointer;\n",
              "      display: none;\n",
              "      fill: #1967D2;\n",
              "      height: 32px;\n",
              "      padding: 0 0 0 0;\n",
              "      width: 32px;\n",
              "    }\n",
              "\n",
              "    .colab-df-convert:hover {\n",
              "      background-color: #E2EBFA;\n",
              "      box-shadow: 0px 1px 2px rgba(60, 64, 67, 0.3), 0px 1px 3px 1px rgba(60, 64, 67, 0.15);\n",
              "      fill: #174EA6;\n",
              "    }\n",
              "\n",
              "    [theme=dark] .colab-df-convert {\n",
              "      background-color: #3B4455;\n",
              "      fill: #D2E3FC;\n",
              "    }\n",
              "\n",
              "    [theme=dark] .colab-df-convert:hover {\n",
              "      background-color: #434B5C;\n",
              "      box-shadow: 0px 1px 3px 1px rgba(0, 0, 0, 0.15);\n",
              "      filter: drop-shadow(0px 1px 2px rgba(0, 0, 0, 0.3));\n",
              "      fill: #FFFFFF;\n",
              "    }\n",
              "  </style>\n",
              "\n",
              "      <script>\n",
              "        const buttonEl =\n",
              "          document.querySelector('#df-ebab464b-bd06-4212-86da-12fa9836a4d8 button.colab-df-convert');\n",
              "        buttonEl.style.display =\n",
              "          google.colab.kernel.accessAllowed ? 'block' : 'none';\n",
              "\n",
              "        async function convertToInteractive(key) {\n",
              "          const element = document.querySelector('#df-ebab464b-bd06-4212-86da-12fa9836a4d8');\n",
              "          const dataTable =\n",
              "            await google.colab.kernel.invokeFunction('convertToInteractive',\n",
              "                                                     [key], {});\n",
              "          if (!dataTable) return;\n",
              "\n",
              "          const docLinkHtml = 'Like what you see? Visit the ' +\n",
              "            '<a target=\"_blank\" href=https://colab.research.google.com/notebooks/data_table.ipynb>data table notebook</a>'\n",
              "            + ' to learn more about interactive tables.';\n",
              "          element.innerHTML = '';\n",
              "          dataTable['output_type'] = 'display_data';\n",
              "          await google.colab.output.renderOutput(dataTable, element);\n",
              "          const docLink = document.createElement('div');\n",
              "          docLink.innerHTML = docLinkHtml;\n",
              "          element.appendChild(docLink);\n",
              "        }\n",
              "      </script>\n",
              "    </div>\n",
              "  </div>\n",
              "  "
            ]
          },
          "metadata": {},
          "execution_count": 61
        }
      ]
    },
    {
      "cell_type": "markdown",
      "source": [
        "###info about data"
      ],
      "metadata": {
        "id": "YwrrYg0bZHv-"
      }
    },
    {
      "cell_type": "code",
      "source": [
        "df.info()"
      ],
      "metadata": {
        "colab": {
          "base_uri": "https://localhost:8080/"
        },
        "id": "p7rOWsXSZxuE",
        "outputId": "0457a3d2-e982-4b7c-f5c8-ce0a5c91ee00"
      },
      "execution_count": 62,
      "outputs": [
        {
          "output_type": "stream",
          "name": "stdout",
          "text": [
            "<class 'pandas.core.frame.DataFrame'>\n",
            "RangeIndex: 303 entries, 0 to 302\n",
            "Data columns (total 56 columns):\n",
            " #   Column                 Non-Null Count  Dtype  \n",
            "---  ------                 --------------  -----  \n",
            " 0   Age                    303 non-null    int64  \n",
            " 1   Weight                 303 non-null    int64  \n",
            " 2   Length                 303 non-null    int64  \n",
            " 3   Sex                    303 non-null    object \n",
            " 4   BMI                    303 non-null    float64\n",
            " 5   DM                     303 non-null    int64  \n",
            " 6   HTN                    303 non-null    int64  \n",
            " 7   Current Smoker         303 non-null    int64  \n",
            " 8   EX-Smoker              303 non-null    int64  \n",
            " 9   FH                     303 non-null    int64  \n",
            " 10  Obesity                303 non-null    object \n",
            " 11  CRF                    303 non-null    object \n",
            " 12  CVA                    303 non-null    object \n",
            " 13  Airway disease         303 non-null    object \n",
            " 14  Thyroid Disease        303 non-null    object \n",
            " 15  CHF                    303 non-null    object \n",
            " 16  DLP                    303 non-null    object \n",
            " 17  BP                     303 non-null    int64  \n",
            " 18  PR                     303 non-null    int64  \n",
            " 19  Edema                  303 non-null    int64  \n",
            " 20  Weak Peripheral Pulse  303 non-null    object \n",
            " 21  Lung rales             303 non-null    object \n",
            " 22  Systolic Murmur        303 non-null    object \n",
            " 23  Diastolic Murmur       303 non-null    object \n",
            " 24  Typical Chest Pain     303 non-null    int64  \n",
            " 25  Dyspnea                303 non-null    object \n",
            " 26  Function Class         303 non-null    int64  \n",
            " 27  Atypical               303 non-null    object \n",
            " 28  Nonanginal             303 non-null    object \n",
            " 29  Exertional CP          303 non-null    object \n",
            " 30  LowTH Ang              303 non-null    object \n",
            " 31  Q Wave                 303 non-null    int64  \n",
            " 32  St Elevation           303 non-null    int64  \n",
            " 33  St Depression          303 non-null    int64  \n",
            " 34  Tinversion             303 non-null    int64  \n",
            " 35  LVH                    303 non-null    object \n",
            " 36  Poor R Progression     303 non-null    object \n",
            " 37  BBB                    303 non-null    object \n",
            " 38  FBS                    303 non-null    int64  \n",
            " 39  CR                     303 non-null    float64\n",
            " 40  TG                     303 non-null    int64  \n",
            " 41  LDL                    303 non-null    int64  \n",
            " 42  HDL                    303 non-null    float64\n",
            " 43  BUN                    303 non-null    int64  \n",
            " 44  ESR                    303 non-null    int64  \n",
            " 45  HB                     303 non-null    float64\n",
            " 46  K                      303 non-null    float64\n",
            " 47  Na                     303 non-null    int64  \n",
            " 48  WBC                    303 non-null    int64  \n",
            " 49  Lymph                  303 non-null    int64  \n",
            " 50  Neut                   303 non-null    int64  \n",
            " 51  PLT                    303 non-null    int64  \n",
            " 52  EF-TTE                 303 non-null    int64  \n",
            " 53  Region RWMA            303 non-null    int64  \n",
            " 54  VHD                    303 non-null    object \n",
            " 55  Cath                   303 non-null    object \n",
            "dtypes: float64(5), int64(29), object(22)\n",
            "memory usage: 132.7+ KB\n"
          ]
        }
      ]
    },
    {
      "cell_type": "code",
      "source": [
        "df.isnull().sum()"
      ],
      "metadata": {
        "colab": {
          "base_uri": "https://localhost:8080/"
        },
        "id": "YN-q0o85Zy2N",
        "outputId": "f623288f-e067-454c-9073-f56dada7df7a"
      },
      "execution_count": 63,
      "outputs": [
        {
          "output_type": "execute_result",
          "data": {
            "text/plain": [
              "Age                      0\n",
              "Weight                   0\n",
              "Length                   0\n",
              "Sex                      0\n",
              "BMI                      0\n",
              "DM                       0\n",
              "HTN                      0\n",
              "Current Smoker           0\n",
              "EX-Smoker                0\n",
              "FH                       0\n",
              "Obesity                  0\n",
              "CRF                      0\n",
              "CVA                      0\n",
              "Airway disease           0\n",
              "Thyroid Disease          0\n",
              "CHF                      0\n",
              "DLP                      0\n",
              "BP                       0\n",
              "PR                       0\n",
              "Edema                    0\n",
              "Weak Peripheral Pulse    0\n",
              "Lung rales               0\n",
              "Systolic Murmur          0\n",
              "Diastolic Murmur         0\n",
              "Typical Chest Pain       0\n",
              "Dyspnea                  0\n",
              "Function Class           0\n",
              "Atypical                 0\n",
              "Nonanginal               0\n",
              "Exertional CP            0\n",
              "LowTH Ang                0\n",
              "Q Wave                   0\n",
              "St Elevation             0\n",
              "St Depression            0\n",
              "Tinversion               0\n",
              "LVH                      0\n",
              "Poor R Progression       0\n",
              "BBB                      0\n",
              "FBS                      0\n",
              "CR                       0\n",
              "TG                       0\n",
              "LDL                      0\n",
              "HDL                      0\n",
              "BUN                      0\n",
              "ESR                      0\n",
              "HB                       0\n",
              "K                        0\n",
              "Na                       0\n",
              "WBC                      0\n",
              "Lymph                    0\n",
              "Neut                     0\n",
              "PLT                      0\n",
              "EF-TTE                   0\n",
              "Region RWMA              0\n",
              "VHD                      0\n",
              "Cath                     0\n",
              "dtype: int64"
            ]
          },
          "metadata": {},
          "execution_count": 63
        }
      ]
    },
    {
      "cell_type": "code",
      "source": [
        "df.describe()     #only for numerical values till now"
      ],
      "metadata": {
        "colab": {
          "base_uri": "https://localhost:8080/",
          "height": 0
        },
        "id": "NN0iwhoAaD9k",
        "outputId": "fc5deec6-180f-4be0-db15-fb19757ec5dc"
      },
      "execution_count": 64,
      "outputs": [
        {
          "output_type": "execute_result",
          "data": {
            "text/plain": [
              "              Age      Weight      Length         BMI          DM         HTN  \\\n",
              "count  303.000000  303.000000  303.000000  303.000000  303.000000  303.000000   \n",
              "mean    58.897690   73.831683  164.716172   27.248339    0.297030    0.590759   \n",
              "std     10.392278   11.987358    9.327661    4.098865    0.457706    0.492507   \n",
              "min     30.000000   48.000000  140.000000   18.115413    0.000000    0.000000   \n",
              "25%     51.000000   65.000000  158.000000   24.514380    0.000000    0.000000   \n",
              "50%     58.000000   74.000000  165.000000   26.775510    0.000000    1.000000   \n",
              "75%     66.000000   81.000000  171.000000   29.411765    1.000000    1.000000   \n",
              "max     86.000000  120.000000  188.000000   40.900658    1.000000    1.000000   \n",
              "\n",
              "       Current Smoker   EX-Smoker          FH          BP  ...         ESR  \\\n",
              "count      303.000000  303.000000  303.000000  303.000000  ...  303.000000   \n",
              "mean         0.207921    0.033003    0.158416  129.554455  ...   19.462046   \n",
              "std          0.406491    0.178941    0.365734   18.938105  ...   15.936475   \n",
              "min          0.000000    0.000000    0.000000   90.000000  ...    1.000000   \n",
              "25%          0.000000    0.000000    0.000000  120.000000  ...    9.000000   \n",
              "50%          0.000000    0.000000    0.000000  130.000000  ...   15.000000   \n",
              "75%          0.000000    0.000000    0.000000  140.000000  ...   26.000000   \n",
              "max          1.000000    1.000000    1.000000  190.000000  ...   90.000000   \n",
              "\n",
              "               HB           K          Na           WBC       Lymph  \\\n",
              "count  303.000000  303.000000  303.000000    303.000000  303.000000   \n",
              "mean    13.153465    4.230693  140.996700   7562.046205   32.399340   \n",
              "std      1.610452    0.458202    3.807885   2413.739323    9.972592   \n",
              "min      8.900000    3.000000  128.000000   3700.000000    7.000000   \n",
              "25%     12.200000    3.900000  139.000000   5800.000000   26.000000   \n",
              "50%     13.200000    4.200000  141.000000   7100.000000   32.000000   \n",
              "75%     14.200000    4.500000  143.000000   8800.000000   39.000000   \n",
              "max     17.600000    6.600000  156.000000  18000.000000   60.000000   \n",
              "\n",
              "             Neut         PLT      EF-TTE  Region RWMA  \n",
              "count  303.000000  303.000000  303.000000   303.000000  \n",
              "mean    60.148515  221.488449   47.231023     0.620462  \n",
              "std     10.182493   60.796199    8.927194     1.132531  \n",
              "min     32.000000   25.000000   15.000000     0.000000  \n",
              "25%     52.500000  183.500000   45.000000     0.000000  \n",
              "50%     60.000000  210.000000   50.000000     0.000000  \n",
              "75%     67.000000  250.000000   55.000000     1.000000  \n",
              "max     89.000000  742.000000   60.000000     4.000000  \n",
              "\n",
              "[8 rows x 34 columns]"
            ],
            "text/html": [
              "\n",
              "  <div id=\"df-4014a03c-46d4-4c12-9d17-821c4d3083eb\">\n",
              "    <div class=\"colab-df-container\">\n",
              "      <div>\n",
              "<style scoped>\n",
              "    .dataframe tbody tr th:only-of-type {\n",
              "        vertical-align: middle;\n",
              "    }\n",
              "\n",
              "    .dataframe tbody tr th {\n",
              "        vertical-align: top;\n",
              "    }\n",
              "\n",
              "    .dataframe thead th {\n",
              "        text-align: right;\n",
              "    }\n",
              "</style>\n",
              "<table border=\"1\" class=\"dataframe\">\n",
              "  <thead>\n",
              "    <tr style=\"text-align: right;\">\n",
              "      <th></th>\n",
              "      <th>Age</th>\n",
              "      <th>Weight</th>\n",
              "      <th>Length</th>\n",
              "      <th>BMI</th>\n",
              "      <th>DM</th>\n",
              "      <th>HTN</th>\n",
              "      <th>Current Smoker</th>\n",
              "      <th>EX-Smoker</th>\n",
              "      <th>FH</th>\n",
              "      <th>BP</th>\n",
              "      <th>...</th>\n",
              "      <th>ESR</th>\n",
              "      <th>HB</th>\n",
              "      <th>K</th>\n",
              "      <th>Na</th>\n",
              "      <th>WBC</th>\n",
              "      <th>Lymph</th>\n",
              "      <th>Neut</th>\n",
              "      <th>PLT</th>\n",
              "      <th>EF-TTE</th>\n",
              "      <th>Region RWMA</th>\n",
              "    </tr>\n",
              "  </thead>\n",
              "  <tbody>\n",
              "    <tr>\n",
              "      <th>count</th>\n",
              "      <td>303.000000</td>\n",
              "      <td>303.000000</td>\n",
              "      <td>303.000000</td>\n",
              "      <td>303.000000</td>\n",
              "      <td>303.000000</td>\n",
              "      <td>303.000000</td>\n",
              "      <td>303.000000</td>\n",
              "      <td>303.000000</td>\n",
              "      <td>303.000000</td>\n",
              "      <td>303.000000</td>\n",
              "      <td>...</td>\n",
              "      <td>303.000000</td>\n",
              "      <td>303.000000</td>\n",
              "      <td>303.000000</td>\n",
              "      <td>303.000000</td>\n",
              "      <td>303.000000</td>\n",
              "      <td>303.000000</td>\n",
              "      <td>303.000000</td>\n",
              "      <td>303.000000</td>\n",
              "      <td>303.000000</td>\n",
              "      <td>303.000000</td>\n",
              "    </tr>\n",
              "    <tr>\n",
              "      <th>mean</th>\n",
              "      <td>58.897690</td>\n",
              "      <td>73.831683</td>\n",
              "      <td>164.716172</td>\n",
              "      <td>27.248339</td>\n",
              "      <td>0.297030</td>\n",
              "      <td>0.590759</td>\n",
              "      <td>0.207921</td>\n",
              "      <td>0.033003</td>\n",
              "      <td>0.158416</td>\n",
              "      <td>129.554455</td>\n",
              "      <td>...</td>\n",
              "      <td>19.462046</td>\n",
              "      <td>13.153465</td>\n",
              "      <td>4.230693</td>\n",
              "      <td>140.996700</td>\n",
              "      <td>7562.046205</td>\n",
              "      <td>32.399340</td>\n",
              "      <td>60.148515</td>\n",
              "      <td>221.488449</td>\n",
              "      <td>47.231023</td>\n",
              "      <td>0.620462</td>\n",
              "    </tr>\n",
              "    <tr>\n",
              "      <th>std</th>\n",
              "      <td>10.392278</td>\n",
              "      <td>11.987358</td>\n",
              "      <td>9.327661</td>\n",
              "      <td>4.098865</td>\n",
              "      <td>0.457706</td>\n",
              "      <td>0.492507</td>\n",
              "      <td>0.406491</td>\n",
              "      <td>0.178941</td>\n",
              "      <td>0.365734</td>\n",
              "      <td>18.938105</td>\n",
              "      <td>...</td>\n",
              "      <td>15.936475</td>\n",
              "      <td>1.610452</td>\n",
              "      <td>0.458202</td>\n",
              "      <td>3.807885</td>\n",
              "      <td>2413.739323</td>\n",
              "      <td>9.972592</td>\n",
              "      <td>10.182493</td>\n",
              "      <td>60.796199</td>\n",
              "      <td>8.927194</td>\n",
              "      <td>1.132531</td>\n",
              "    </tr>\n",
              "    <tr>\n",
              "      <th>min</th>\n",
              "      <td>30.000000</td>\n",
              "      <td>48.000000</td>\n",
              "      <td>140.000000</td>\n",
              "      <td>18.115413</td>\n",
              "      <td>0.000000</td>\n",
              "      <td>0.000000</td>\n",
              "      <td>0.000000</td>\n",
              "      <td>0.000000</td>\n",
              "      <td>0.000000</td>\n",
              "      <td>90.000000</td>\n",
              "      <td>...</td>\n",
              "      <td>1.000000</td>\n",
              "      <td>8.900000</td>\n",
              "      <td>3.000000</td>\n",
              "      <td>128.000000</td>\n",
              "      <td>3700.000000</td>\n",
              "      <td>7.000000</td>\n",
              "      <td>32.000000</td>\n",
              "      <td>25.000000</td>\n",
              "      <td>15.000000</td>\n",
              "      <td>0.000000</td>\n",
              "    </tr>\n",
              "    <tr>\n",
              "      <th>25%</th>\n",
              "      <td>51.000000</td>\n",
              "      <td>65.000000</td>\n",
              "      <td>158.000000</td>\n",
              "      <td>24.514380</td>\n",
              "      <td>0.000000</td>\n",
              "      <td>0.000000</td>\n",
              "      <td>0.000000</td>\n",
              "      <td>0.000000</td>\n",
              "      <td>0.000000</td>\n",
              "      <td>120.000000</td>\n",
              "      <td>...</td>\n",
              "      <td>9.000000</td>\n",
              "      <td>12.200000</td>\n",
              "      <td>3.900000</td>\n",
              "      <td>139.000000</td>\n",
              "      <td>5800.000000</td>\n",
              "      <td>26.000000</td>\n",
              "      <td>52.500000</td>\n",
              "      <td>183.500000</td>\n",
              "      <td>45.000000</td>\n",
              "      <td>0.000000</td>\n",
              "    </tr>\n",
              "    <tr>\n",
              "      <th>50%</th>\n",
              "      <td>58.000000</td>\n",
              "      <td>74.000000</td>\n",
              "      <td>165.000000</td>\n",
              "      <td>26.775510</td>\n",
              "      <td>0.000000</td>\n",
              "      <td>1.000000</td>\n",
              "      <td>0.000000</td>\n",
              "      <td>0.000000</td>\n",
              "      <td>0.000000</td>\n",
              "      <td>130.000000</td>\n",
              "      <td>...</td>\n",
              "      <td>15.000000</td>\n",
              "      <td>13.200000</td>\n",
              "      <td>4.200000</td>\n",
              "      <td>141.000000</td>\n",
              "      <td>7100.000000</td>\n",
              "      <td>32.000000</td>\n",
              "      <td>60.000000</td>\n",
              "      <td>210.000000</td>\n",
              "      <td>50.000000</td>\n",
              "      <td>0.000000</td>\n",
              "    </tr>\n",
              "    <tr>\n",
              "      <th>75%</th>\n",
              "      <td>66.000000</td>\n",
              "      <td>81.000000</td>\n",
              "      <td>171.000000</td>\n",
              "      <td>29.411765</td>\n",
              "      <td>1.000000</td>\n",
              "      <td>1.000000</td>\n",
              "      <td>0.000000</td>\n",
              "      <td>0.000000</td>\n",
              "      <td>0.000000</td>\n",
              "      <td>140.000000</td>\n",
              "      <td>...</td>\n",
              "      <td>26.000000</td>\n",
              "      <td>14.200000</td>\n",
              "      <td>4.500000</td>\n",
              "      <td>143.000000</td>\n",
              "      <td>8800.000000</td>\n",
              "      <td>39.000000</td>\n",
              "      <td>67.000000</td>\n",
              "      <td>250.000000</td>\n",
              "      <td>55.000000</td>\n",
              "      <td>1.000000</td>\n",
              "    </tr>\n",
              "    <tr>\n",
              "      <th>max</th>\n",
              "      <td>86.000000</td>\n",
              "      <td>120.000000</td>\n",
              "      <td>188.000000</td>\n",
              "      <td>40.900658</td>\n",
              "      <td>1.000000</td>\n",
              "      <td>1.000000</td>\n",
              "      <td>1.000000</td>\n",
              "      <td>1.000000</td>\n",
              "      <td>1.000000</td>\n",
              "      <td>190.000000</td>\n",
              "      <td>...</td>\n",
              "      <td>90.000000</td>\n",
              "      <td>17.600000</td>\n",
              "      <td>6.600000</td>\n",
              "      <td>156.000000</td>\n",
              "      <td>18000.000000</td>\n",
              "      <td>60.000000</td>\n",
              "      <td>89.000000</td>\n",
              "      <td>742.000000</td>\n",
              "      <td>60.000000</td>\n",
              "      <td>4.000000</td>\n",
              "    </tr>\n",
              "  </tbody>\n",
              "</table>\n",
              "<p>8 rows × 34 columns</p>\n",
              "</div>\n",
              "      <button class=\"colab-df-convert\" onclick=\"convertToInteractive('df-4014a03c-46d4-4c12-9d17-821c4d3083eb')\"\n",
              "              title=\"Convert this dataframe to an interactive table.\"\n",
              "              style=\"display:none;\">\n",
              "        \n",
              "  <svg xmlns=\"http://www.w3.org/2000/svg\" height=\"24px\"viewBox=\"0 0 24 24\"\n",
              "       width=\"24px\">\n",
              "    <path d=\"M0 0h24v24H0V0z\" fill=\"none\"/>\n",
              "    <path d=\"M18.56 5.44l.94 2.06.94-2.06 2.06-.94-2.06-.94-.94-2.06-.94 2.06-2.06.94zm-11 1L8.5 8.5l.94-2.06 2.06-.94-2.06-.94L8.5 2.5l-.94 2.06-2.06.94zm10 10l.94 2.06.94-2.06 2.06-.94-2.06-.94-.94-2.06-.94 2.06-2.06.94z\"/><path d=\"M17.41 7.96l-1.37-1.37c-.4-.4-.92-.59-1.43-.59-.52 0-1.04.2-1.43.59L10.3 9.45l-7.72 7.72c-.78.78-.78 2.05 0 2.83L4 21.41c.39.39.9.59 1.41.59.51 0 1.02-.2 1.41-.59l7.78-7.78 2.81-2.81c.8-.78.8-2.07 0-2.86zM5.41 20L4 18.59l7.72-7.72 1.47 1.35L5.41 20z\"/>\n",
              "  </svg>\n",
              "      </button>\n",
              "      \n",
              "  <style>\n",
              "    .colab-df-container {\n",
              "      display:flex;\n",
              "      flex-wrap:wrap;\n",
              "      gap: 12px;\n",
              "    }\n",
              "\n",
              "    .colab-df-convert {\n",
              "      background-color: #E8F0FE;\n",
              "      border: none;\n",
              "      border-radius: 50%;\n",
              "      cursor: pointer;\n",
              "      display: none;\n",
              "      fill: #1967D2;\n",
              "      height: 32px;\n",
              "      padding: 0 0 0 0;\n",
              "      width: 32px;\n",
              "    }\n",
              "\n",
              "    .colab-df-convert:hover {\n",
              "      background-color: #E2EBFA;\n",
              "      box-shadow: 0px 1px 2px rgba(60, 64, 67, 0.3), 0px 1px 3px 1px rgba(60, 64, 67, 0.15);\n",
              "      fill: #174EA6;\n",
              "    }\n",
              "\n",
              "    [theme=dark] .colab-df-convert {\n",
              "      background-color: #3B4455;\n",
              "      fill: #D2E3FC;\n",
              "    }\n",
              "\n",
              "    [theme=dark] .colab-df-convert:hover {\n",
              "      background-color: #434B5C;\n",
              "      box-shadow: 0px 1px 3px 1px rgba(0, 0, 0, 0.15);\n",
              "      filter: drop-shadow(0px 1px 2px rgba(0, 0, 0, 0.3));\n",
              "      fill: #FFFFFF;\n",
              "    }\n",
              "  </style>\n",
              "\n",
              "      <script>\n",
              "        const buttonEl =\n",
              "          document.querySelector('#df-4014a03c-46d4-4c12-9d17-821c4d3083eb button.colab-df-convert');\n",
              "        buttonEl.style.display =\n",
              "          google.colab.kernel.accessAllowed ? 'block' : 'none';\n",
              "\n",
              "        async function convertToInteractive(key) {\n",
              "          const element = document.querySelector('#df-4014a03c-46d4-4c12-9d17-821c4d3083eb');\n",
              "          const dataTable =\n",
              "            await google.colab.kernel.invokeFunction('convertToInteractive',\n",
              "                                                     [key], {});\n",
              "          if (!dataTable) return;\n",
              "\n",
              "          const docLinkHtml = 'Like what you see? Visit the ' +\n",
              "            '<a target=\"_blank\" href=https://colab.research.google.com/notebooks/data_table.ipynb>data table notebook</a>'\n",
              "            + ' to learn more about interactive tables.';\n",
              "          element.innerHTML = '';\n",
              "          dataTable['output_type'] = 'display_data';\n",
              "          await google.colab.output.renderOutput(dataTable, element);\n",
              "          const docLink = document.createElement('div');\n",
              "          docLink.innerHTML = docLinkHtml;\n",
              "          element.appendChild(docLink);\n",
              "        }\n",
              "      </script>\n",
              "    </div>\n",
              "  </div>\n",
              "  "
            ]
          },
          "metadata": {},
          "execution_count": 64
        }
      ]
    },
    {
      "cell_type": "markdown",
      "source": [
        "# **Exploratory Data Analysis**"
      ],
      "metadata": {
        "id": "CXwHV_JJJGBv"
      }
    },
    {
      "cell_type": "code",
      "source": [
        "print(\"List of Numerical features: \\n\" , df.select_dtypes(include=np.number).columns.tolist())\n",
        "print(\"\\n\\nList of Categorical features: \\n\" , df.select_dtypes(include=['object']).columns.tolist())"
      ],
      "metadata": {
        "colab": {
          "base_uri": "https://localhost:8080/"
        },
        "id": "a62EnIC4JLsb",
        "outputId": "08fe4d6f-b61f-4b2f-b498-048deb0cdab0"
      },
      "execution_count": 65,
      "outputs": [
        {
          "output_type": "stream",
          "name": "stdout",
          "text": [
            "List of Numerical features: \n",
            " ['Age', 'Weight', 'Length', 'BMI', 'DM', 'HTN', 'Current Smoker', 'EX-Smoker', 'FH', 'BP', 'PR', 'Edema', 'Typical Chest Pain', 'Function Class', 'Q Wave', 'St Elevation', 'St Depression', 'Tinversion', 'FBS', 'CR', 'TG', 'LDL', 'HDL', 'BUN', 'ESR', 'HB', 'K', 'Na', 'WBC', 'Lymph', 'Neut', 'PLT', 'EF-TTE', 'Region RWMA']\n",
            "\n",
            "\n",
            "List of Categorical features: \n",
            " ['Sex', 'Obesity', 'CRF', 'CVA', 'Airway disease', 'Thyroid Disease', 'CHF', 'DLP', 'Weak Peripheral Pulse', 'Lung rales', 'Systolic Murmur', 'Diastolic Murmur', 'Dyspnea', 'Atypical', 'Nonanginal', 'Exertional CP', 'LowTH Ang', 'LVH', 'Poor R Progression', 'BBB', 'VHD', 'Cath']\n"
          ]
        }
      ]
    },
    {
      "cell_type": "markdown",
      "source": [
        "### **Checking Data Distribution Over All Classes**"
      ],
      "metadata": {
        "id": "q2jcQYBIJ4t-"
      }
    },
    {
      "cell_type": "markdown",
      "source": [
        "Since it's a classification problem we have to check the distribution of data points over each class."
      ],
      "metadata": {
        "id": "6hZTpKbKJzrV"
      }
    },
    {
      "cell_type": "code",
      "source": [
        "px.histogram(df, x=\"Cath\", color=\"Cath\", width=600, height=400, title=\"Visualizaton of Data Distribution (Hover for the details)\") "
      ],
      "metadata": {
        "colab": {
          "base_uri": "https://localhost:8080/",
          "height": 0
        },
        "id": "4r36MTNAJfFE",
        "outputId": "a183bce3-23c4-4034-da49-d2ca7d47f881"
      },
      "execution_count": 66,
      "outputs": [
        {
          "output_type": "display_data",
          "data": {
            "text/html": [
              "<html>\n",
              "<head><meta charset=\"utf-8\" /></head>\n",
              "<body>\n",
              "    <div>            <script src=\"https://cdnjs.cloudflare.com/ajax/libs/mathjax/2.7.5/MathJax.js?config=TeX-AMS-MML_SVG\"></script><script type=\"text/javascript\">if (window.MathJax) {MathJax.Hub.Config({SVG: {font: \"STIX-Web\"}});}</script>                <script type=\"text/javascript\">window.PlotlyConfig = {MathJaxConfig: 'local'};</script>\n",
              "        <script src=\"https://cdn.plot.ly/plotly-2.8.3.min.js\"></script>                <div id=\"7218b4fc-4372-41f2-be3b-c9803f5cc976\" class=\"plotly-graph-div\" style=\"height:400px; width:600px;\"></div>            <script type=\"text/javascript\">                                    window.PLOTLYENV=window.PLOTLYENV || {};                                    if (document.getElementById(\"7218b4fc-4372-41f2-be3b-c9803f5cc976\")) {                    Plotly.newPlot(                        \"7218b4fc-4372-41f2-be3b-c9803f5cc976\",                        [{\"alignmentgroup\":\"True\",\"bingroup\":\"x\",\"hovertemplate\":\"Cath=%{x}<br>count=%{y}<extra></extra>\",\"legendgroup\":\"Cad\",\"marker\":{\"color\":\"#636efa\",\"pattern\":{\"shape\":\"\"}},\"name\":\"Cad\",\"offsetgroup\":\"Cad\",\"orientation\":\"v\",\"showlegend\":true,\"x\":[\"Cad\",\"Cad\",\"Cad\",\"Cad\",\"Cad\",\"Cad\",\"Cad\",\"Cad\",\"Cad\",\"Cad\",\"Cad\",\"Cad\",\"Cad\",\"Cad\",\"Cad\",\"Cad\",\"Cad\",\"Cad\",\"Cad\",\"Cad\",\"Cad\",\"Cad\",\"Cad\",\"Cad\",\"Cad\",\"Cad\",\"Cad\",\"Cad\",\"Cad\",\"Cad\",\"Cad\",\"Cad\",\"Cad\",\"Cad\",\"Cad\",\"Cad\",\"Cad\",\"Cad\",\"Cad\",\"Cad\",\"Cad\",\"Cad\",\"Cad\",\"Cad\",\"Cad\",\"Cad\",\"Cad\",\"Cad\",\"Cad\",\"Cad\",\"Cad\",\"Cad\",\"Cad\",\"Cad\",\"Cad\",\"Cad\",\"Cad\",\"Cad\",\"Cad\",\"Cad\",\"Cad\",\"Cad\",\"Cad\",\"Cad\",\"Cad\",\"Cad\",\"Cad\",\"Cad\",\"Cad\",\"Cad\",\"Cad\",\"Cad\",\"Cad\",\"Cad\",\"Cad\",\"Cad\",\"Cad\",\"Cad\",\"Cad\",\"Cad\",\"Cad\",\"Cad\",\"Cad\",\"Cad\",\"Cad\",\"Cad\",\"Cad\",\"Cad\",\"Cad\",\"Cad\",\"Cad\",\"Cad\",\"Cad\",\"Cad\",\"Cad\",\"Cad\",\"Cad\",\"Cad\",\"Cad\",\"Cad\",\"Cad\",\"Cad\",\"Cad\",\"Cad\",\"Cad\",\"Cad\",\"Cad\",\"Cad\",\"Cad\",\"Cad\",\"Cad\",\"Cad\",\"Cad\",\"Cad\",\"Cad\",\"Cad\",\"Cad\",\"Cad\",\"Cad\",\"Cad\",\"Cad\",\"Cad\",\"Cad\",\"Cad\",\"Cad\",\"Cad\",\"Cad\",\"Cad\",\"Cad\",\"Cad\",\"Cad\",\"Cad\",\"Cad\",\"Cad\",\"Cad\",\"Cad\",\"Cad\",\"Cad\",\"Cad\",\"Cad\",\"Cad\",\"Cad\",\"Cad\",\"Cad\",\"Cad\",\"Cad\",\"Cad\",\"Cad\",\"Cad\",\"Cad\",\"Cad\",\"Cad\",\"Cad\",\"Cad\",\"Cad\",\"Cad\",\"Cad\",\"Cad\",\"Cad\",\"Cad\",\"Cad\",\"Cad\",\"Cad\",\"Cad\",\"Cad\",\"Cad\",\"Cad\",\"Cad\",\"Cad\",\"Cad\",\"Cad\",\"Cad\",\"Cad\",\"Cad\",\"Cad\",\"Cad\",\"Cad\",\"Cad\",\"Cad\",\"Cad\",\"Cad\",\"Cad\",\"Cad\",\"Cad\",\"Cad\",\"Cad\",\"Cad\",\"Cad\",\"Cad\",\"Cad\",\"Cad\",\"Cad\",\"Cad\",\"Cad\",\"Cad\",\"Cad\",\"Cad\",\"Cad\",\"Cad\",\"Cad\",\"Cad\",\"Cad\",\"Cad\",\"Cad\",\"Cad\",\"Cad\",\"Cad\",\"Cad\",\"Cad\",\"Cad\",\"Cad\",\"Cad\",\"Cad\",\"Cad\",\"Cad\",\"Cad\"],\"xaxis\":\"x\",\"yaxis\":\"y\",\"type\":\"histogram\"},{\"alignmentgroup\":\"True\",\"bingroup\":\"x\",\"hovertemplate\":\"Cath=%{x}<br>count=%{y}<extra></extra>\",\"legendgroup\":\"Normal\",\"marker\":{\"color\":\"#EF553B\",\"pattern\":{\"shape\":\"\"}},\"name\":\"Normal\",\"offsetgroup\":\"Normal\",\"orientation\":\"v\",\"showlegend\":true,\"x\":[\"Normal\",\"Normal\",\"Normal\",\"Normal\",\"Normal\",\"Normal\",\"Normal\",\"Normal\",\"Normal\",\"Normal\",\"Normal\",\"Normal\",\"Normal\",\"Normal\",\"Normal\",\"Normal\",\"Normal\",\"Normal\",\"Normal\",\"Normal\",\"Normal\",\"Normal\",\"Normal\",\"Normal\",\"Normal\",\"Normal\",\"Normal\",\"Normal\",\"Normal\",\"Normal\",\"Normal\",\"Normal\",\"Normal\",\"Normal\",\"Normal\",\"Normal\",\"Normal\",\"Normal\",\"Normal\",\"Normal\",\"Normal\",\"Normal\",\"Normal\",\"Normal\",\"Normal\",\"Normal\",\"Normal\",\"Normal\",\"Normal\",\"Normal\",\"Normal\",\"Normal\",\"Normal\",\"Normal\",\"Normal\",\"Normal\",\"Normal\",\"Normal\",\"Normal\",\"Normal\",\"Normal\",\"Normal\",\"Normal\",\"Normal\",\"Normal\",\"Normal\",\"Normal\",\"Normal\",\"Normal\",\"Normal\",\"Normal\",\"Normal\",\"Normal\",\"Normal\",\"Normal\",\"Normal\",\"Normal\",\"Normal\",\"Normal\",\"Normal\",\"Normal\",\"Normal\",\"Normal\",\"Normal\",\"Normal\",\"Normal\",\"Normal\"],\"xaxis\":\"x\",\"yaxis\":\"y\",\"type\":\"histogram\"}],                        {\"template\":{\"data\":{\"bar\":[{\"error_x\":{\"color\":\"#2a3f5f\"},\"error_y\":{\"color\":\"#2a3f5f\"},\"marker\":{\"line\":{\"color\":\"#E5ECF6\",\"width\":0.5},\"pattern\":{\"fillmode\":\"overlay\",\"size\":10,\"solidity\":0.2}},\"type\":\"bar\"}],\"barpolar\":[{\"marker\":{\"line\":{\"color\":\"#E5ECF6\",\"width\":0.5},\"pattern\":{\"fillmode\":\"overlay\",\"size\":10,\"solidity\":0.2}},\"type\":\"barpolar\"}],\"carpet\":[{\"aaxis\":{\"endlinecolor\":\"#2a3f5f\",\"gridcolor\":\"white\",\"linecolor\":\"white\",\"minorgridcolor\":\"white\",\"startlinecolor\":\"#2a3f5f\"},\"baxis\":{\"endlinecolor\":\"#2a3f5f\",\"gridcolor\":\"white\",\"linecolor\":\"white\",\"minorgridcolor\":\"white\",\"startlinecolor\":\"#2a3f5f\"},\"type\":\"carpet\"}],\"choropleth\":[{\"colorbar\":{\"outlinewidth\":0,\"ticks\":\"\"},\"type\":\"choropleth\"}],\"contour\":[{\"colorbar\":{\"outlinewidth\":0,\"ticks\":\"\"},\"colorscale\":[[0.0,\"#0d0887\"],[0.1111111111111111,\"#46039f\"],[0.2222222222222222,\"#7201a8\"],[0.3333333333333333,\"#9c179e\"],[0.4444444444444444,\"#bd3786\"],[0.5555555555555556,\"#d8576b\"],[0.6666666666666666,\"#ed7953\"],[0.7777777777777778,\"#fb9f3a\"],[0.8888888888888888,\"#fdca26\"],[1.0,\"#f0f921\"]],\"type\":\"contour\"}],\"contourcarpet\":[{\"colorbar\":{\"outlinewidth\":0,\"ticks\":\"\"},\"type\":\"contourcarpet\"}],\"heatmap\":[{\"colorbar\":{\"outlinewidth\":0,\"ticks\":\"\"},\"colorscale\":[[0.0,\"#0d0887\"],[0.1111111111111111,\"#46039f\"],[0.2222222222222222,\"#7201a8\"],[0.3333333333333333,\"#9c179e\"],[0.4444444444444444,\"#bd3786\"],[0.5555555555555556,\"#d8576b\"],[0.6666666666666666,\"#ed7953\"],[0.7777777777777778,\"#fb9f3a\"],[0.8888888888888888,\"#fdca26\"],[1.0,\"#f0f921\"]],\"type\":\"heatmap\"}],\"heatmapgl\":[{\"colorbar\":{\"outlinewidth\":0,\"ticks\":\"\"},\"colorscale\":[[0.0,\"#0d0887\"],[0.1111111111111111,\"#46039f\"],[0.2222222222222222,\"#7201a8\"],[0.3333333333333333,\"#9c179e\"],[0.4444444444444444,\"#bd3786\"],[0.5555555555555556,\"#d8576b\"],[0.6666666666666666,\"#ed7953\"],[0.7777777777777778,\"#fb9f3a\"],[0.8888888888888888,\"#fdca26\"],[1.0,\"#f0f921\"]],\"type\":\"heatmapgl\"}],\"histogram\":[{\"marker\":{\"pattern\":{\"fillmode\":\"overlay\",\"size\":10,\"solidity\":0.2}},\"type\":\"histogram\"}],\"histogram2d\":[{\"colorbar\":{\"outlinewidth\":0,\"ticks\":\"\"},\"colorscale\":[[0.0,\"#0d0887\"],[0.1111111111111111,\"#46039f\"],[0.2222222222222222,\"#7201a8\"],[0.3333333333333333,\"#9c179e\"],[0.4444444444444444,\"#bd3786\"],[0.5555555555555556,\"#d8576b\"],[0.6666666666666666,\"#ed7953\"],[0.7777777777777778,\"#fb9f3a\"],[0.8888888888888888,\"#fdca26\"],[1.0,\"#f0f921\"]],\"type\":\"histogram2d\"}],\"histogram2dcontour\":[{\"colorbar\":{\"outlinewidth\":0,\"ticks\":\"\"},\"colorscale\":[[0.0,\"#0d0887\"],[0.1111111111111111,\"#46039f\"],[0.2222222222222222,\"#7201a8\"],[0.3333333333333333,\"#9c179e\"],[0.4444444444444444,\"#bd3786\"],[0.5555555555555556,\"#d8576b\"],[0.6666666666666666,\"#ed7953\"],[0.7777777777777778,\"#fb9f3a\"],[0.8888888888888888,\"#fdca26\"],[1.0,\"#f0f921\"]],\"type\":\"histogram2dcontour\"}],\"mesh3d\":[{\"colorbar\":{\"outlinewidth\":0,\"ticks\":\"\"},\"type\":\"mesh3d\"}],\"parcoords\":[{\"line\":{\"colorbar\":{\"outlinewidth\":0,\"ticks\":\"\"}},\"type\":\"parcoords\"}],\"pie\":[{\"automargin\":true,\"type\":\"pie\"}],\"scatter\":[{\"marker\":{\"colorbar\":{\"outlinewidth\":0,\"ticks\":\"\"}},\"type\":\"scatter\"}],\"scatter3d\":[{\"line\":{\"colorbar\":{\"outlinewidth\":0,\"ticks\":\"\"}},\"marker\":{\"colorbar\":{\"outlinewidth\":0,\"ticks\":\"\"}},\"type\":\"scatter3d\"}],\"scattercarpet\":[{\"marker\":{\"colorbar\":{\"outlinewidth\":0,\"ticks\":\"\"}},\"type\":\"scattercarpet\"}],\"scattergeo\":[{\"marker\":{\"colorbar\":{\"outlinewidth\":0,\"ticks\":\"\"}},\"type\":\"scattergeo\"}],\"scattergl\":[{\"marker\":{\"colorbar\":{\"outlinewidth\":0,\"ticks\":\"\"}},\"type\":\"scattergl\"}],\"scattermapbox\":[{\"marker\":{\"colorbar\":{\"outlinewidth\":0,\"ticks\":\"\"}},\"type\":\"scattermapbox\"}],\"scatterpolar\":[{\"marker\":{\"colorbar\":{\"outlinewidth\":0,\"ticks\":\"\"}},\"type\":\"scatterpolar\"}],\"scatterpolargl\":[{\"marker\":{\"colorbar\":{\"outlinewidth\":0,\"ticks\":\"\"}},\"type\":\"scatterpolargl\"}],\"scatterternary\":[{\"marker\":{\"colorbar\":{\"outlinewidth\":0,\"ticks\":\"\"}},\"type\":\"scatterternary\"}],\"surface\":[{\"colorbar\":{\"outlinewidth\":0,\"ticks\":\"\"},\"colorscale\":[[0.0,\"#0d0887\"],[0.1111111111111111,\"#46039f\"],[0.2222222222222222,\"#7201a8\"],[0.3333333333333333,\"#9c179e\"],[0.4444444444444444,\"#bd3786\"],[0.5555555555555556,\"#d8576b\"],[0.6666666666666666,\"#ed7953\"],[0.7777777777777778,\"#fb9f3a\"],[0.8888888888888888,\"#fdca26\"],[1.0,\"#f0f921\"]],\"type\":\"surface\"}],\"table\":[{\"cells\":{\"fill\":{\"color\":\"#EBF0F8\"},\"line\":{\"color\":\"white\"}},\"header\":{\"fill\":{\"color\":\"#C8D4E3\"},\"line\":{\"color\":\"white\"}},\"type\":\"table\"}]},\"layout\":{\"annotationdefaults\":{\"arrowcolor\":\"#2a3f5f\",\"arrowhead\":0,\"arrowwidth\":1},\"autotypenumbers\":\"strict\",\"coloraxis\":{\"colorbar\":{\"outlinewidth\":0,\"ticks\":\"\"}},\"colorscale\":{\"diverging\":[[0,\"#8e0152\"],[0.1,\"#c51b7d\"],[0.2,\"#de77ae\"],[0.3,\"#f1b6da\"],[0.4,\"#fde0ef\"],[0.5,\"#f7f7f7\"],[0.6,\"#e6f5d0\"],[0.7,\"#b8e186\"],[0.8,\"#7fbc41\"],[0.9,\"#4d9221\"],[1,\"#276419\"]],\"sequential\":[[0.0,\"#0d0887\"],[0.1111111111111111,\"#46039f\"],[0.2222222222222222,\"#7201a8\"],[0.3333333333333333,\"#9c179e\"],[0.4444444444444444,\"#bd3786\"],[0.5555555555555556,\"#d8576b\"],[0.6666666666666666,\"#ed7953\"],[0.7777777777777778,\"#fb9f3a\"],[0.8888888888888888,\"#fdca26\"],[1.0,\"#f0f921\"]],\"sequentialminus\":[[0.0,\"#0d0887\"],[0.1111111111111111,\"#46039f\"],[0.2222222222222222,\"#7201a8\"],[0.3333333333333333,\"#9c179e\"],[0.4444444444444444,\"#bd3786\"],[0.5555555555555556,\"#d8576b\"],[0.6666666666666666,\"#ed7953\"],[0.7777777777777778,\"#fb9f3a\"],[0.8888888888888888,\"#fdca26\"],[1.0,\"#f0f921\"]]},\"colorway\":[\"#636efa\",\"#EF553B\",\"#00cc96\",\"#ab63fa\",\"#FFA15A\",\"#19d3f3\",\"#FF6692\",\"#B6E880\",\"#FF97FF\",\"#FECB52\"],\"font\":{\"color\":\"#2a3f5f\"},\"geo\":{\"bgcolor\":\"white\",\"lakecolor\":\"white\",\"landcolor\":\"#E5ECF6\",\"showlakes\":true,\"showland\":true,\"subunitcolor\":\"white\"},\"hoverlabel\":{\"align\":\"left\"},\"hovermode\":\"closest\",\"mapbox\":{\"style\":\"light\"},\"paper_bgcolor\":\"white\",\"plot_bgcolor\":\"#E5ECF6\",\"polar\":{\"angularaxis\":{\"gridcolor\":\"white\",\"linecolor\":\"white\",\"ticks\":\"\"},\"bgcolor\":\"#E5ECF6\",\"radialaxis\":{\"gridcolor\":\"white\",\"linecolor\":\"white\",\"ticks\":\"\"}},\"scene\":{\"xaxis\":{\"backgroundcolor\":\"#E5ECF6\",\"gridcolor\":\"white\",\"gridwidth\":2,\"linecolor\":\"white\",\"showbackground\":true,\"ticks\":\"\",\"zerolinecolor\":\"white\"},\"yaxis\":{\"backgroundcolor\":\"#E5ECF6\",\"gridcolor\":\"white\",\"gridwidth\":2,\"linecolor\":\"white\",\"showbackground\":true,\"ticks\":\"\",\"zerolinecolor\":\"white\"},\"zaxis\":{\"backgroundcolor\":\"#E5ECF6\",\"gridcolor\":\"white\",\"gridwidth\":2,\"linecolor\":\"white\",\"showbackground\":true,\"ticks\":\"\",\"zerolinecolor\":\"white\"}},\"shapedefaults\":{\"line\":{\"color\":\"#2a3f5f\"}},\"ternary\":{\"aaxis\":{\"gridcolor\":\"white\",\"linecolor\":\"white\",\"ticks\":\"\"},\"baxis\":{\"gridcolor\":\"white\",\"linecolor\":\"white\",\"ticks\":\"\"},\"bgcolor\":\"#E5ECF6\",\"caxis\":{\"gridcolor\":\"white\",\"linecolor\":\"white\",\"ticks\":\"\"}},\"title\":{\"x\":0.05},\"xaxis\":{\"automargin\":true,\"gridcolor\":\"white\",\"linecolor\":\"white\",\"ticks\":\"\",\"title\":{\"standoff\":15},\"zerolinecolor\":\"white\",\"zerolinewidth\":2},\"yaxis\":{\"automargin\":true,\"gridcolor\":\"white\",\"linecolor\":\"white\",\"ticks\":\"\",\"title\":{\"standoff\":15},\"zerolinecolor\":\"white\",\"zerolinewidth\":2}}},\"xaxis\":{\"anchor\":\"y\",\"domain\":[0.0,1.0],\"title\":{\"text\":\"Cath\"},\"categoryorder\":\"array\",\"categoryarray\":[\"Cad\",\"Normal\"]},\"yaxis\":{\"anchor\":\"x\",\"domain\":[0.0,1.0],\"title\":{\"text\":\"count\"}},\"legend\":{\"title\":{\"text\":\"Cath\"},\"tracegroupgap\":0},\"title\":{\"text\":\"Visualizaton of Data Distribution (Hover for the details)\"},\"barmode\":\"relative\",\"height\":400,\"width\":600},                        {\"responsive\": true}                    ).then(function(){\n",
              "                            \n",
              "var gd = document.getElementById('7218b4fc-4372-41f2-be3b-c9803f5cc976');\n",
              "var x = new MutationObserver(function (mutations, observer) {{\n",
              "        var display = window.getComputedStyle(gd).display;\n",
              "        if (!display || display === 'none') {{\n",
              "            console.log([gd, 'removed!']);\n",
              "            Plotly.purge(gd);\n",
              "            observer.disconnect();\n",
              "        }}\n",
              "}});\n",
              "\n",
              "// Listen for the removal of the full notebook cells\n",
              "var notebookContainer = gd.closest('#notebook-container');\n",
              "if (notebookContainer) {{\n",
              "    x.observe(notebookContainer, {childList: true});\n",
              "}}\n",
              "\n",
              "// Listen for the clearing of the current output cell\n",
              "var outputEl = gd.closest('.output');\n",
              "if (outputEl) {{\n",
              "    x.observe(outputEl, {childList: true});\n",
              "}}\n",
              "\n",
              "                        })                };                            </script>        </div>\n",
              "</body>\n",
              "</html>"
            ]
          },
          "metadata": {}
        }
      ]
    },
    {
      "cell_type": "markdown",
      "source": [
        "### **Visualising Multi-Collinearity**"
      ],
      "metadata": {
        "id": "Uij840d7K-Sd"
      }
    },
    {
      "cell_type": "code",
      "source": [
        "# Create a covariance matrix\n",
        "corr = df.corr()\n",
        "\n",
        "# Creating a mask the size of our covariance matrix\n",
        "mask = np.zeros_like(corr, dtype=bool)\n",
        "\n",
        "mask[np.triu_indices_from(mask)] = True\n",
        "\n",
        "# Set up the matplotlib figure\n",
        "f, ax = plt.subplots(figsize=(30,29))\n",
        "\n",
        "# Generate a custom diverging colormap\n",
        "cmap = sns.diverging_palette(150,275,as_cmap=True)\n",
        "\n",
        "# Draw the heatmap with the mask and correct aspect ratio\n",
        "sns.heatmap(corr,mask=mask,cmap=cmap,vmax=1,center=0,square=True, \n",
        "            linewidth=.5, annot=True)\n",
        "\n",
        "ax.set_title('Multi-Collinearity of Features')"
      ],
      "metadata": {
        "colab": {
          "base_uri": "https://localhost:8080/",
          "height": 0
        },
        "id": "VZ0hxwjjKEuz",
        "outputId": "2e1e692b-3fcd-4f91-d825-3f35a5dabee4"
      },
      "execution_count": 67,
      "outputs": [
        {
          "output_type": "execute_result",
          "data": {
            "text/plain": [
              "Text(0.5, 1.0, 'Multi-Collinearity of Features')"
            ]
          },
          "metadata": {},
          "execution_count": 67
        },
        {
          "output_type": "display_data",
          "data": {
            "text/plain": [
              "<Figure size 2160x2088 with 2 Axes>"
            ],
            "image/png": "[encoded data removed]"
          },
          "metadata": {
            "needs_background": "light"
          }
        }
      ]
    },
    {
      "cell_type": "markdown",
      "source": [
        "**Observations**"
      ],
      "metadata": {
        "id": "_wMQV3JALGJJ"
      }
    },
    {
      "cell_type": "markdown",
      "source": [
        "### **Weight vs BMI**"
      ],
      "metadata": {
        "id": "SfcM_yb-MPVK"
      }
    },
    {
      "cell_type": "code",
      "source": [
        "fig = px.scatter(df, x=\"BMI\", y=\"Weight\", color=\"Cath\", symbol = \"Cath\", hover_data=['Age'], width=700, height = 600, \n",
        "                 title = \"Weight vs BMI (Hover for the details) <br />Correlation = 0.73\")\n",
        "fig.update_traces(marker_size=10, marker_line_width = 1,marker_line_color = \"black\")\n",
        "fig.show()"
      ],
      "metadata": {
        "colab": {
          "base_uri": "https://localhost:8080/",
          "height": 0
        },
        "id": "ZbQginZRLN7F",
        "outputId": "14c50be1-0d51-4a41-c311-1a3c71f6a922"
      },
      "execution_count": 68,
      "outputs": [
        {
          "output_type": "display_data",
          "data": {
            "text/html": [
              "<html>\n",
              "<head><meta charset=\"utf-8\" /></head>\n",
              "<body>\n",
              "    <div>            <script src=\"https://cdnjs.cloudflare.com/ajax/libs/mathjax/2.7.5/MathJax.js?config=TeX-AMS-MML_SVG\"></script><script type=\"text/javascript\">if (window.MathJax) {MathJax.Hub.Config({SVG: {font: \"STIX-Web\"}});}</script>                <script type=\"text/javascript\">window.PlotlyConfig = {MathJaxConfig: 'local'};</script>\n",
              "        <script src=\"https://cdn.plot.ly/plotly-2.8.3.min.js\"></script>                <div id=\"9a0f9032-86fd-4881-a016-0b95d484822c\" class=\"plotly-graph-div\" style=\"height:600px; width:700px;\"></div>            <script type=\"text/javascript\">                                    window.PLOTLYENV=window.PLOTLYENV || {};                                    if (document.getElementById(\"9a0f9032-86fd-4881-a016-0b95d484822c\")) {                    Plotly.newPlot(                        \"9a0f9032-86fd-4881-a016-0b95d484822c\",                        [{\"customdata\":[[53],[67],[54],[50],[55],[72],[60],[58],[80],[70],[67],[66],[59],[60],[65],[47],[66],[66],[72],[50],[65],[50],[80],[65],[59],[52],[55],[60],[55],[69],[54],[76],[46],[76],[60],[73],[51],[57],[68],[61],[73],[55],[73],[48],[53],[65],[70],[81],[56],[47],[41],[68],[53],[53],[80],[62],[55],[60],[60],[49],[70],[70],[66],[65],[55],[86],[57],[52],[59],[75],[81],[71],[63],[56],[59],[50],[48],[66],[77],[65],[61],[76],[75],[60],[48],[49],[69],[75],[64],[48],[81],[65],[59],[59],[55],[66],[49],[56],[63],[74],[70],[76],[36],[52],[72],[79],[62],[55],[49],[50],[60],[51],[80],[47],[46],[53],[44],[71],[63],[45],[70],[71],[65],[60],[58],[67],[57],[62],[70],[63],[72],[68],[72],[74],[70],[42],[50],[62],[68],[63],[48],[74],[66],[62],[65],[76],[58],[70],[50],[62],[42],[62],[85],[64],[57],[71],[55],[66],[62],[44],[60],[69],[55],[50],[68],[57],[62],[64],[70],[48],[77],[54],[56],[54],[75],[64],[48],[56],[47],[47],[55],[52],[67],[63],[55],[72],[66],[62],[62],[62],[54],[64],[49],[51],[49],[56],[53],[57],[52],[48],[61],[70],[64],[76],[55],[60],[75],[73],[46],[71],[55],[51],[67],[64],[58],[56]],\"hovertemplate\":\"Cath=Cad<br>BMI=%{x}<br>Weight=%{y}<br>Age=%{customdata[0]}<extra></extra>\",\"legendgroup\":\"Cad\",\"marker\":{\"color\":\"#636efa\",\"symbol\":\"circle\",\"line\":{\"color\":\"black\",\"width\":1},\"size\":10},\"mode\":\"markers\",\"name\":\"Cad\",\"orientation\":\"v\",\"showlegend\":true,\"x\":[29.387755102040817,28.398718000730252,20.077334919690664,24.489795918367346,29.384756657483933,26.122448979591837,24.56747404844291,26.573129251700685,28.621470374642232,30.700407876847507,26.564344746162927,26.22268470343392,29.043708989207214,33.49768527230984,32.0,29.065743944636683,39.03337572913469,25.95155709342561,25.461980633463213,24.538964901844146,27.513384889946465,29.752066115702483,23.283418553688826,27.11111111111111,30.818540433925047,22.839506172839506,33.77777777777778,26.09327520147972,28.685144680698485,27.76709812465291,28.19692120103642,21.077195227520797,26.122448979591837,25.725517400855587,29.384756657483933,25.10956902848795,24.622960911049557,30.86300682844026,25.510204081632658,26.672763298277697,29.357521924046825,25.390624999999996,22.76943835385394,25.689561925365066,27.68166089965398,27.33564013840831,24.538964901844146,22.4058769513315,21.093749999999996,22.321428571428577,35.83266147093075,34.80874965389027,31.184587124610193,30.832893829364274,24.034407151290267,18.93877551020408,28.628792385484836,29.053287981859416,25.558846200657225,25.402816083611555,34.666666666666664,28.935185185185187,21.777553339224845,24.724520008546747,26.29757785467128,24.38652644413961,33.782262060267556,38.28124999999999,23.030045351473927,32.17993079584775,27.915518824609737,32.39390994493036,23.25501863821347,26.775510204081634,26.573129251700685,27.77427092538821,21.887076365377382,24.801587301587304,21.971335857220122,24.801587301587304,22.432302515622492,23.301094832264035,23.18339100346021,26.83518005540166,28.40550435551067,35.15624999999999,24.67105263157895,27.12031558185404,34.17488999957281,28.668892437218755,27.180899908172638,25.393431120318084,28.69897959183674,25.95155709342561,18.36547291092746,29.365763350250564,31.249999999999993,26.573129251700685,24.111507464658473,23.828124999999996,27.776910832995224,25.315454293738377,22.03856749311295,19.257028815517668,24.653031409788166,24.609374999999996,34.78073792534691,24.021275987303035,26.989619377162633,28.515624999999993,30.48668503213958,21.306818181818183,19.817677368212443,27.548209366391188,31.11111111111111,26.22268470343392,26.296566837107374,21.484374999999996,27.428571428571427,26.775510204081634,26.44628099173554,24.341758286340216,33.320517749583495,28.373702422145332,30.470521541950117,27.887617065556707,30.42296786389414,21.38593635289987,19.031141868512112,27.309968138370508,32.038959374599514,20.23950075898128,22.20408163265306,31.17913832199547,28.444444444444443,27.343749999999996,28.515624999999993,34.24499051321209,26.666666666666668,28.73469387755102,30.461118308182492,21.97735111870822,26.672763298277697,32.28305785123967,25.390624999999996,26.528510346119035,33.30612244897959,24.280975342840534,29.40759637188209,31.634581999151262,25.013520822065985,24.609374999999996,26.813590449954088,27.700831024930746,31.88775510204082,29.000594883997625,23.306680053067517,33.247876942797625,31.1950948402596,25.68370986920333,18.826793499801823,22.03856749311295,27.005130974885226,22.49134948096886,29.320987654320987,36.264033023417305,24.3046178773967,23.046874999999996,24.31412396574249,30.48668503213958,28.393726338561386,24.221453287197235,25.806451612903224,27.18163008641324,24.441802087462015,24.897060231734173,40.90065778377467,25.24933720489837,22.837370242214536,25.209201358495854,29.552549427679498,25.25951557093426,21.13885585942661,26.44628099173554,28.40111107643332,26.22268470343392,26.14268848035082,22.10028959000152,32.407407407407405,29.410734918245165,24.677021338365513,28.69897959183674,22.060353798126947,25.909456951787405,26.122448979591837,25.95155709342561,23.243408017070564,24.088223117166624,25.2993759487266,33.694937541091385,30.040816326530614,25.20808561236623,23.875114784205696,32.46191135734072,31.555555555555557,25.390624999999996,22.656249999999996,28.906249999999993,27.734374999999993,28.353057199211044,30.73941661933242,28.73174689021093,30.22222222222222,22.857142857142858,29.761904761904766,29.411764705882355],\"xaxis\":\"x\",\"y\":[90,70,54,75,80,80,71,75,67,70,63,63,81,89,72,84,89,75,66,66,74,81,51,61,75,74,76,79,80,65,74,56,80,89,80,55,72,80,72,70,78,65,54,76,80,79,66,61,54,63,120,88,73,76,57,58,77,82,63,70,78,60,69,81,76,64,75,98,65,93,76,70,68,82,75,88,64,70,65,70,56,73,67,62,90,90,57,66,80,79,74,76,81,75,50,92,80,75,73,61,89,64,60,55,54,63,97,84,78,73,83,66,60,75,70,63,90,55,84,82,72,60,78,82,86,67,103,67,55,78,75,48,68,88,64,70,73,74,60,88,87,72,70,100,65,85,102,71,83,82,74,63,73,64,90,78,65,83,87,54,57,60,70,65,95,94,63,59,67,83,84,70,62,67,74,78,97,80,66,72,71,73,64,72,91,63,62,58,105,84,68,81,53,74,80,75,61,64,60,82,92,53,65,75,71,65,58,74,71,69,92,85,68,70,84,85],\"yaxis\":\"y\",\"type\":\"scatter\"},{\"customdata\":[[66],[50],[58],[41],[68],[56],[47],[40],[43],[53],[56],[47],[55],[30],[47],[52],[52],[65],[65],[56],[60],[51],[55],[45],[48],[50],[43],[52],[42],[62],[63],[50],[50],[44],[43],[53],[49],[66],[50],[79],[51],[54],[64],[46],[43],[47],[44],[41],[50],[46],[38],[73],[66],[64],[50],[53],[62],[56],[51],[48],[38],[52],[67],[56],[49],[51],[50],[56],[48],[76],[55],[49],[70],[56],[50],[56],[67],[58],[53],[57],[59],[62],[42],[30],[55],[48],[57]],\"hovertemplate\":\"Cath=Normal<br>BMI=%{x}<br>Weight=%{y}<br>Age=%{customdata[0]}<extra></extra>\",\"legendgroup\":\"Normal\",\"marker\":{\"color\":\"#EF553B\",\"symbol\":\"diamond\",\"line\":{\"color\":\"black\",\"width\":1},\"size\":10},\"mode\":\"markers\",\"name\":\"Normal\",\"orientation\":\"v\",\"showlegend\":true,\"x\":[26.83864765261977,37.165192874535435,31.615792841281195,23.80869017191275,22.76146753597469,24.3910588392529,32.038959374599514,27.70083102493075,33.331831899463985,25.72103221453871,24.677021338365513,23.93948099205209,29.411764705882355,24.801587301587304,19.05197378448407,26.672763298277697,25.990903183885642,22.64086462471699,26.813590449954088,29.745808545159548,22.67573696145125,27.68166089965398,22.03856749311295,24.212293388429753,31.14186851211073,24.435186668803073,24.049343594386603,28.444444444444443,30.056810675122207,32.87310979618672,24.999999999999996,35.05886426592798,19.531249999999996,25.2993759487266,37.37024221453288,34.086605226612804,26.004382761139514,33.163265306122454,24.212293388429753,19.493177387914233,31.0445580715851,24.910767400356935,31.611773249604852,28.515624999999993,28.71047932495361,27.39817568244846,29.017447199265384,35.796045785639954,35.20430362722993,23.620287912158062,23.95122659311947,26.29757785467128,18.115412710007302,34.894398530762174,32.0,26.19618735008206,25.039918710988534,26.861206922865602,35.55555555555556,37.04474505723204,26.25958474843318,28.228386465429637,31.624219935908247,25.88057063502083,26.365603028664147,27.885187388459254,31.63739669421488,27.09925100681245,28.685144680698485,22.308149910767405,28.566481994459835,23.66524436157625,27.005130974885226,24.034609838166958,26.122448979591837,26.14268848035082,31.217481789802285,27.21730294672667,25.79591836734694,28.075042938300964,31.24876389383331,20.775623268698062,23.711844630960897,33.802055164954034,27.700831024930746,30.078124999999993,35.59985760056959],\"xaxis\":\"x\",\"y\":[67,87,84,68,59,73,75,81,74,61,68,75,85,70,50,70,76,53,73,88,64,80,60,75,90,61,85,64,91,80,64,81,50,60,108,108,89,65,75,57,68,67,74,73,82,82,79,86,89,74,66,76,62,95,98,83,69,88,80,89,75,75,75,82,78,75,98,72,80,60,66,66,70,60,80,62,75,75,79,85,79,48,63,100,64,77,90],\"yaxis\":\"y\",\"type\":\"scatter\"}],                        {\"template\":{\"data\":{\"bar\":[{\"error_x\":{\"color\":\"#2a3f5f\"},\"error_y\":{\"color\":\"#2a3f5f\"},\"marker\":{\"line\":{\"color\":\"#E5ECF6\",\"width\":0.5},\"pattern\":{\"fillmode\":\"overlay\",\"size\":10,\"solidity\":0.2}},\"type\":\"bar\"}],\"barpolar\":[{\"marker\":{\"line\":{\"color\":\"#E5ECF6\",\"width\":0.5},\"pattern\":{\"fillmode\":\"overlay\",\"size\":10,\"solidity\":0.2}},\"type\":\"barpolar\"}],\"carpet\":[{\"aaxis\":{\"endlinecolor\":\"#2a3f5f\",\"gridcolor\":\"white\",\"linecolor\":\"white\",\"minorgridcolor\":\"white\",\"startlinecolor\":\"#2a3f5f\"},\"baxis\":{\"endlinecolor\":\"#2a3f5f\",\"gridcolor\":\"white\",\"linecolor\":\"white\",\"minorgridcolor\":\"white\",\"startlinecolor\":\"#2a3f5f\"},\"type\":\"carpet\"}],\"choropleth\":[{\"colorbar\":{\"outlinewidth\":0,\"ticks\":\"\"},\"type\":\"choropleth\"}],\"contour\":[{\"colorbar\":{\"outlinewidth\":0,\"ticks\":\"\"},\"colorscale\":[[0.0,\"#0d0887\"],[0.1111111111111111,\"#46039f\"],[0.2222222222222222,\"#7201a8\"],[0.3333333333333333,\"#9c179e\"],[0.4444444444444444,\"#bd3786\"],[0.5555555555555556,\"#d8576b\"],[0.6666666666666666,\"#ed7953\"],[0.7777777777777778,\"#fb9f3a\"],[0.8888888888888888,\"#fdca26\"],[1.0,\"#f0f921\"]],\"type\":\"contour\"}],\"contourcarpet\":[{\"colorbar\":{\"outlinewidth\":0,\"ticks\":\"\"},\"type\":\"contourcarpet\"}],\"heatmap\":[{\"colorbar\":{\"outlinewidth\":0,\"ticks\":\"\"},\"colorscale\":[[0.0,\"#0d0887\"],[0.1111111111111111,\"#46039f\"],[0.2222222222222222,\"#7201a8\"],[0.3333333333333333,\"#9c179e\"],[0.4444444444444444,\"#bd3786\"],[0.5555555555555556,\"#d8576b\"],[0.6666666666666666,\"#ed7953\"],[0.7777777777777778,\"#fb9f3a\"],[0.8888888888888888,\"#fdca26\"],[1.0,\"#f0f921\"]],\"type\":\"heatmap\"}],\"heatmapgl\":[{\"colorbar\":{\"outlinewidth\":0,\"ticks\":\"\"},\"colorscale\":[[0.0,\"#0d0887\"],[0.1111111111111111,\"#46039f\"],[0.2222222222222222,\"#7201a8\"],[0.3333333333333333,\"#9c179e\"],[0.4444444444444444,\"#bd3786\"],[0.5555555555555556,\"#d8576b\"],[0.6666666666666666,\"#ed7953\"],[0.7777777777777778,\"#fb9f3a\"],[0.8888888888888888,\"#fdca26\"],[1.0,\"#f0f921\"]],\"type\":\"heatmapgl\"}],\"histogram\":[{\"marker\":{\"pattern\":{\"fillmode\":\"overlay\",\"size\":10,\"solidity\":0.2}},\"type\":\"histogram\"}],\"histogram2d\":[{\"colorbar\":{\"outlinewidth\":0,\"ticks\":\"\"},\"colorscale\":[[0.0,\"#0d0887\"],[0.1111111111111111,\"#46039f\"],[0.2222222222222222,\"#7201a8\"],[0.3333333333333333,\"#9c179e\"],[0.4444444444444444,\"#bd3786\"],[0.5555555555555556,\"#d8576b\"],[0.6666666666666666,\"#ed7953\"],[0.7777777777777778,\"#fb9f3a\"],[0.8888888888888888,\"#fdca26\"],[1.0,\"#f0f921\"]],\"type\":\"histogram2d\"}],\"histogram2dcontour\":[{\"colorbar\":{\"outlinewidth\":0,\"ticks\":\"\"},\"colorscale\":[[0.0,\"#0d0887\"],[0.1111111111111111,\"#46039f\"],[0.2222222222222222,\"#7201a8\"],[0.3333333333333333,\"#9c179e\"],[0.4444444444444444,\"#bd3786\"],[0.5555555555555556,\"#d8576b\"],[0.6666666666666666,\"#ed7953\"],[0.7777777777777778,\"#fb9f3a\"],[0.8888888888888888,\"#fdca26\"],[1.0,\"#f0f921\"]],\"type\":\"histogram2dcontour\"}],\"mesh3d\":[{\"colorbar\":{\"outlinewidth\":0,\"ticks\":\"\"},\"type\":\"mesh3d\"}],\"parcoords\":[{\"line\":{\"colorbar\":{\"outlinewidth\":0,\"ticks\":\"\"}},\"type\":\"parcoords\"}],\"pie\":[{\"automargin\":true,\"type\":\"pie\"}],\"scatter\":[{\"marker\":{\"colorbar\":{\"outlinewidth\":0,\"ticks\":\"\"}},\"type\":\"scatter\"}],\"scatter3d\":[{\"line\":{\"colorbar\":{\"outlinewidth\":0,\"ticks\":\"\"}},\"marker\":{\"colorbar\":{\"outlinewidth\":0,\"ticks\":\"\"}},\"type\":\"scatter3d\"}],\"scattercarpet\":[{\"marker\":{\"colorbar\":{\"outlinewidth\":0,\"ticks\":\"\"}},\"type\":\"scattercarpet\"}],\"scattergeo\":[{\"marker\":{\"colorbar\":{\"outlinewidth\":0,\"ticks\":\"\"}},\"type\":\"scattergeo\"}],\"scattergl\":[{\"marker\":{\"colorbar\":{\"outlinewidth\":0,\"ticks\":\"\"}},\"type\":\"scattergl\"}],\"scattermapbox\":[{\"marker\":{\"colorbar\":{\"outlinewidth\":0,\"ticks\":\"\"}},\"type\":\"scattermapbox\"}],\"scatterpolar\":[{\"marker\":{\"colorbar\":{\"outlinewidth\":0,\"ticks\":\"\"}},\"type\":\"scatterpolar\"}],\"scatterpolargl\":[{\"marker\":{\"colorbar\":{\"outlinewidth\":0,\"ticks\":\"\"}},\"type\":\"scatterpolargl\"}],\"scatterternary\":[{\"marker\":{\"colorbar\":{\"outlinewidth\":0,\"ticks\":\"\"}},\"type\":\"scatterternary\"}],\"surface\":[{\"colorbar\":{\"outlinewidth\":0,\"ticks\":\"\"},\"colorscale\":[[0.0,\"#0d0887\"],[0.1111111111111111,\"#46039f\"],[0.2222222222222222,\"#7201a8\"],[0.3333333333333333,\"#9c179e\"],[0.4444444444444444,\"#bd3786\"],[0.5555555555555556,\"#d8576b\"],[0.6666666666666666,\"#ed7953\"],[0.7777777777777778,\"#fb9f3a\"],[0.8888888888888888,\"#fdca26\"],[1.0,\"#f0f921\"]],\"type\":\"surface\"}],\"table\":[{\"cells\":{\"fill\":{\"color\":\"#EBF0F8\"},\"line\":{\"color\":\"white\"}},\"header\":{\"fill\":{\"color\":\"#C8D4E3\"},\"line\":{\"color\":\"white\"}},\"type\":\"table\"}]},\"layout\":{\"annotationdefaults\":{\"arrowcolor\":\"#2a3f5f\",\"arrowhead\":0,\"arrowwidth\":1},\"autotypenumbers\":\"strict\",\"coloraxis\":{\"colorbar\":{\"outlinewidth\":0,\"ticks\":\"\"}},\"colorscale\":{\"diverging\":[[0,\"#8e0152\"],[0.1,\"#c51b7d\"],[0.2,\"#de77ae\"],[0.3,\"#f1b6da\"],[0.4,\"#fde0ef\"],[0.5,\"#f7f7f7\"],[0.6,\"#e6f5d0\"],[0.7,\"#b8e186\"],[0.8,\"#7fbc41\"],[0.9,\"#4d9221\"],[1,\"#276419\"]],\"sequential\":[[0.0,\"#0d0887\"],[0.1111111111111111,\"#46039f\"],[0.2222222222222222,\"#7201a8\"],[0.3333333333333333,\"#9c179e\"],[0.4444444444444444,\"#bd3786\"],[0.5555555555555556,\"#d8576b\"],[0.6666666666666666,\"#ed7953\"],[0.7777777777777778,\"#fb9f3a\"],[0.8888888888888888,\"#fdca26\"],[1.0,\"#f0f921\"]],\"sequentialminus\":[[0.0,\"#0d0887\"],[0.1111111111111111,\"#46039f\"],[0.2222222222222222,\"#7201a8\"],[0.3333333333333333,\"#9c179e\"],[0.4444444444444444,\"#bd3786\"],[0.5555555555555556,\"#d8576b\"],[0.6666666666666666,\"#ed7953\"],[0.7777777777777778,\"#fb9f3a\"],[0.8888888888888888,\"#fdca26\"],[1.0,\"#f0f921\"]]},\"colorway\":[\"#636efa\",\"#EF553B\",\"#00cc96\",\"#ab63fa\",\"#FFA15A\",\"#19d3f3\",\"#FF6692\",\"#B6E880\",\"#FF97FF\",\"#FECB52\"],\"font\":{\"color\":\"#2a3f5f\"},\"geo\":{\"bgcolor\":\"white\",\"lakecolor\":\"white\",\"landcolor\":\"#E5ECF6\",\"showlakes\":true,\"showland\":true,\"subunitcolor\":\"white\"},\"hoverlabel\":{\"align\":\"left\"},\"hovermode\":\"closest\",\"mapbox\":{\"style\":\"light\"},\"paper_bgcolor\":\"white\",\"plot_bgcolor\":\"#E5ECF6\",\"polar\":{\"angularaxis\":{\"gridcolor\":\"white\",\"linecolor\":\"white\",\"ticks\":\"\"},\"bgcolor\":\"#E5ECF6\",\"radialaxis\":{\"gridcolor\":\"white\",\"linecolor\":\"white\",\"ticks\":\"\"}},\"scene\":{\"xaxis\":{\"backgroundcolor\":\"#E5ECF6\",\"gridcolor\":\"white\",\"gridwidth\":2,\"linecolor\":\"white\",\"showbackground\":true,\"ticks\":\"\",\"zerolinecolor\":\"white\"},\"yaxis\":{\"backgroundcolor\":\"#E5ECF6\",\"gridcolor\":\"white\",\"gridwidth\":2,\"linecolor\":\"white\",\"showbackground\":true,\"ticks\":\"\",\"zerolinecolor\":\"white\"},\"zaxis\":{\"backgroundcolor\":\"#E5ECF6\",\"gridcolor\":\"white\",\"gridwidth\":2,\"linecolor\":\"white\",\"showbackground\":true,\"ticks\":\"\",\"zerolinecolor\":\"white\"}},\"shapedefaults\":{\"line\":{\"color\":\"#2a3f5f\"}},\"ternary\":{\"aaxis\":{\"gridcolor\":\"white\",\"linecolor\":\"white\",\"ticks\":\"\"},\"baxis\":{\"gridcolor\":\"white\",\"linecolor\":\"white\",\"ticks\":\"\"},\"bgcolor\":\"#E5ECF6\",\"caxis\":{\"gridcolor\":\"white\",\"linecolor\":\"white\",\"ticks\":\"\"}},\"title\":{\"x\":0.05},\"xaxis\":{\"automargin\":true,\"gridcolor\":\"white\",\"linecolor\":\"white\",\"ticks\":\"\",\"title\":{\"standoff\":15},\"zerolinecolor\":\"white\",\"zerolinewidth\":2},\"yaxis\":{\"automargin\":true,\"gridcolor\":\"white\",\"linecolor\":\"white\",\"ticks\":\"\",\"title\":{\"standoff\":15},\"zerolinecolor\":\"white\",\"zerolinewidth\":2}}},\"xaxis\":{\"anchor\":\"y\",\"domain\":[0.0,1.0],\"title\":{\"text\":\"BMI\"}},\"yaxis\":{\"anchor\":\"x\",\"domain\":[0.0,1.0],\"title\":{\"text\":\"Weight\"}},\"legend\":{\"title\":{\"text\":\"Cath\"},\"tracegroupgap\":0},\"title\":{\"text\":\"Weight vs BMI (Hover for the details) <br />Correlation = 0.73\"},\"height\":600,\"width\":700},                        {\"responsive\": true}                    ).then(function(){\n",
              "                            \n",
              "var gd = document.getElementById('9a0f9032-86fd-4881-a016-0b95d484822c');\n",
              "var x = new MutationObserver(function (mutations, observer) {{\n",
              "        var display = window.getComputedStyle(gd).display;\n",
              "        if (!display || display === 'none') {{\n",
              "            console.log([gd, 'removed!']);\n",
              "            Plotly.purge(gd);\n",
              "            observer.disconnect();\n",
              "        }}\n",
              "}});\n",
              "\n",
              "// Listen for the removal of the full notebook cells\n",
              "var notebookContainer = gd.closest('#notebook-container');\n",
              "if (notebookContainer) {{\n",
              "    x.observe(notebookContainer, {childList: true});\n",
              "}}\n",
              "\n",
              "// Listen for the clearing of the current output cell\n",
              "var outputEl = gd.closest('.output');\n",
              "if (outputEl) {{\n",
              "    x.observe(outputEl, {childList: true});\n",
              "}}\n",
              "\n",
              "                        })                };                            </script>        </div>\n",
              "</body>\n",
              "</html>"
            ]
          },
          "metadata": {}
        }
      ]
    },
    {
      "cell_type": "markdown",
      "source": [
        "## One hot encoding"
      ],
      "metadata": {
        "id": "AxB4CZYyfR4x"
      }
    },
    {
      "cell_type": "code",
      "source": [
        "df=pd.get_dummies(df,columns =[\"Sex\",\"Obesity\",\"CRF\",\"CVA\",\"Airway disease\",\"Thyroid Disease\",\"CHF\",\"DLP\",\"Weak Peripheral Pulse\",\"Lung rales\",\"Systolic Murmur\",\"Diastolic Murmur\",\"Dyspnea\",\"Atypical\",\"Nonanginal\",\"Exertional CP\",\"LowTH Ang\",\"LVH\",\"Poor R Progression\",\"BBB\",\"VHD\"])"
      ],
      "metadata": {
        "id": "P8i_gPJ2fXvI"
      },
      "execution_count": 69,
      "outputs": []
    },
    {
      "cell_type": "code",
      "source": [
        "df.head()"
      ],
      "metadata": {
        "colab": {
          "base_uri": "https://localhost:8080/",
          "height": 0
        },
        "id": "-z_MnOmchmNe",
        "outputId": "8c137bf5-d71b-4642-fcf8-e392b0b8b76d"
      },
      "execution_count": 70,
      "outputs": [
        {
          "output_type": "execute_result",
          "data": {
            "text/plain": [
              "   Age  Weight  Length        BMI  DM  HTN  Current Smoker  EX-Smoker  FH  \\\n",
              "0   53      90     175  29.387755   0    1               1          0   0   \n",
              "1   67      70     157  28.398718   0    1               0          0   0   \n",
              "2   54      54     164  20.077335   0    0               1          0   0   \n",
              "3   66      67     158  26.838648   0    1               0          0   0   \n",
              "4   50      87     153  37.165193   0    1               0          0   0   \n",
              "\n",
              "    BP  ...  LVH_Y  Poor R Progression_N  Poor R Progression_Y  BBB_LBBB  \\\n",
              "0  110  ...      0                     1                     0         0   \n",
              "1  140  ...      0                     1                     0         0   \n",
              "2  100  ...      0                     1                     0         0   \n",
              "3  100  ...      0                     1                     0         0   \n",
              "4  110  ...      0                     1                     0         0   \n",
              "\n",
              "   BBB_N  BBB_RBBB  VHD_Moderate  VHD_N  VHD_Severe  VHD_mild  \n",
              "0      1         0             0      1           0         0  \n",
              "1      1         0             0      1           0         0  \n",
              "2      1         0             0      0           0         1  \n",
              "3      1         0             0      0           1         0  \n",
              "4      1         0             0      0           1         0  \n",
              "\n",
              "[5 rows x 79 columns]"
            ],
            "text/html": [
              "\n",
              "  <div id=\"df-e7c86741-b664-41f6-9426-a3ae21379e62\">\n",
              "    <div class=\"colab-df-container\">\n",
              "      <div>\n",
              "<style scoped>\n",
              "    .dataframe tbody tr th:only-of-type {\n",
              "        vertical-align: middle;\n",
              "    }\n",
              "\n",
              "    .dataframe tbody tr th {\n",
              "        vertical-align: top;\n",
              "    }\n",
              "\n",
              "    .dataframe thead th {\n",
              "        text-align: right;\n",
              "    }\n",
              "</style>\n",
              "<table border=\"1\" class=\"dataframe\">\n",
              "  <thead>\n",
              "    <tr style=\"text-align: right;\">\n",
              "      <th></th>\n",
              "      <th>Age</th>\n",
              "      <th>Weight</th>\n",
              "      <th>Length</th>\n",
              "      <th>BMI</th>\n",
              "      <th>DM</th>\n",
              "      <th>HTN</th>\n",
              "      <th>Current Smoker</th>\n",
              "      <th>EX-Smoker</th>\n",
              "      <th>FH</th>\n",
              "      <th>BP</th>\n",
              "      <th>...</th>\n",
              "      <th>LVH_Y</th>\n",
              "      <th>Poor R Progression_N</th>\n",
              "      <th>Poor R Progression_Y</th>\n",
              "      <th>BBB_LBBB</th>\n",
              "      <th>BBB_N</th>\n",
              "      <th>BBB_RBBB</th>\n",
              "      <th>VHD_Moderate</th>\n",
              "      <th>VHD_N</th>\n",
              "      <th>VHD_Severe</th>\n",
              "      <th>VHD_mild</th>\n",
              "    </tr>\n",
              "  </thead>\n",
              "  <tbody>\n",
              "    <tr>\n",
              "      <th>0</th>\n",
              "      <td>53</td>\n",
              "      <td>90</td>\n",
              "      <td>175</td>\n",
              "      <td>29.387755</td>\n",
              "      <td>0</td>\n",
              "      <td>1</td>\n",
              "      <td>1</td>\n",
              "      <td>0</td>\n",
              "      <td>0</td>\n",
              "      <td>110</td>\n",
              "      <td>...</td>\n",
              "      <td>0</td>\n",
              "      <td>1</td>\n",
              "      <td>0</td>\n",
              "      <td>0</td>\n",
              "      <td>1</td>\n",
              "      <td>0</td>\n",
              "      <td>0</td>\n",
              "      <td>1</td>\n",
              "      <td>0</td>\n",
              "      <td>0</td>\n",
              "    </tr>\n",
              "    <tr>\n",
              "      <th>1</th>\n",
              "      <td>67</td>\n",
              "      <td>70</td>\n",
              "      <td>157</td>\n",
              "      <td>28.398718</td>\n",
              "      <td>0</td>\n",
              "      <td>1</td>\n",
              "      <td>0</td>\n",
              "      <td>0</td>\n",
              "      <td>0</td>\n",
              "      <td>140</td>\n",
              "      <td>...</td>\n",
              "      <td>0</td>\n",
              "      <td>1</td>\n",
              "      <td>0</td>\n",
              "      <td>0</td>\n",
              "      <td>1</td>\n",
              "      <td>0</td>\n",
              "      <td>0</td>\n",
              "      <td>1</td>\n",
              "      <td>0</td>\n",
              "      <td>0</td>\n",
              "    </tr>\n",
              "    <tr>\n",
              "      <th>2</th>\n",
              "      <td>54</td>\n",
              "      <td>54</td>\n",
              "      <td>164</td>\n",
              "      <td>20.077335</td>\n",
              "      <td>0</td>\n",
              "      <td>0</td>\n",
              "      <td>1</td>\n",
              "      <td>0</td>\n",
              "      <td>0</td>\n",
              "      <td>100</td>\n",
              "      <td>...</td>\n",
              "      <td>0</td>\n",
              "      <td>1</td>\n",
              "      <td>0</td>\n",
              "      <td>0</td>\n",
              "      <td>1</td>\n",
              "      <td>0</td>\n",
              "      <td>0</td>\n",
              "      <td>0</td>\n",
              "      <td>0</td>\n",
              "      <td>1</td>\n",
              "    </tr>\n",
              "    <tr>\n",
              "      <th>3</th>\n",
              "      <td>66</td>\n",
              "      <td>67</td>\n",
              "      <td>158</td>\n",
              "      <td>26.838648</td>\n",
              "      <td>0</td>\n",
              "      <td>1</td>\n",
              "      <td>0</td>\n",
              "      <td>0</td>\n",
              "      <td>0</td>\n",
              "      <td>100</td>\n",
              "      <td>...</td>\n",
              "      <td>0</td>\n",
              "      <td>1</td>\n",
              "      <td>0</td>\n",
              "      <td>0</td>\n",
              "      <td>1</td>\n",
              "      <td>0</td>\n",
              "      <td>0</td>\n",
              "      <td>0</td>\n",
              "      <td>1</td>\n",
              "      <td>0</td>\n",
              "    </tr>\n",
              "    <tr>\n",
              "      <th>4</th>\n",
              "      <td>50</td>\n",
              "      <td>87</td>\n",
              "      <td>153</td>\n",
              "      <td>37.165193</td>\n",
              "      <td>0</td>\n",
              "      <td>1</td>\n",
              "      <td>0</td>\n",
              "      <td>0</td>\n",
              "      <td>0</td>\n",
              "      <td>110</td>\n",
              "      <td>...</td>\n",
              "      <td>0</td>\n",
              "      <td>1</td>\n",
              "      <td>0</td>\n",
              "      <td>0</td>\n",
              "      <td>1</td>\n",
              "      <td>0</td>\n",
              "      <td>0</td>\n",
              "      <td>0</td>\n",
              "      <td>1</td>\n",
              "      <td>0</td>\n",
              "    </tr>\n",
              "  </tbody>\n",
              "</table>\n",
              "<p>5 rows × 79 columns</p>\n",
              "</div>\n",
              "      <button class=\"colab-df-convert\" onclick=\"convertToInteractive('df-e7c86741-b664-41f6-9426-a3ae21379e62')\"\n",
              "              title=\"Convert this dataframe to an interactive table.\"\n",
              "              style=\"display:none;\">\n",
              "        \n",
              "  <svg xmlns=\"http://www.w3.org/2000/svg\" height=\"24px\"viewBox=\"0 0 24 24\"\n",
              "       width=\"24px\">\n",
              "    <path d=\"M0 0h24v24H0V0z\" fill=\"none\"/>\n",
              "    <path d=\"M18.56 5.44l.94 2.06.94-2.06 2.06-.94-2.06-.94-.94-2.06-.94 2.06-2.06.94zm-11 1L8.5 8.5l.94-2.06 2.06-.94-2.06-.94L8.5 2.5l-.94 2.06-2.06.94zm10 10l.94 2.06.94-2.06 2.06-.94-2.06-.94-.94-2.06-.94 2.06-2.06.94z\"/><path d=\"M17.41 7.96l-1.37-1.37c-.4-.4-.92-.59-1.43-.59-.52 0-1.04.2-1.43.59L10.3 9.45l-7.72 7.72c-.78.78-.78 2.05 0 2.83L4 21.41c.39.39.9.59 1.41.59.51 0 1.02-.2 1.41-.59l7.78-7.78 2.81-2.81c.8-.78.8-2.07 0-2.86zM5.41 20L4 18.59l7.72-7.72 1.47 1.35L5.41 20z\"/>\n",
              "  </svg>\n",
              "      </button>\n",
              "      \n",
              "  <style>\n",
              "    .colab-df-container {\n",
              "      display:flex;\n",
              "      flex-wrap:wrap;\n",
              "      gap: 12px;\n",
              "    }\n",
              "\n",
              "    .colab-df-convert {\n",
              "      background-color: #E8F0FE;\n",
              "      border: none;\n",
              "      border-radius: 50%;\n",
              "      cursor: pointer;\n",
              "      display: none;\n",
              "      fill: #1967D2;\n",
              "      height: 32px;\n",
              "      padding: 0 0 0 0;\n",
              "      width: 32px;\n",
              "    }\n",
              "\n",
              "    .colab-df-convert:hover {\n",
              "      background-color: #E2EBFA;\n",
              "      box-shadow: 0px 1px 2px rgba(60, 64, 67, 0.3), 0px 1px 3px 1px rgba(60, 64, 67, 0.15);\n",
              "      fill: #174EA6;\n",
              "    }\n",
              "\n",
              "    [theme=dark] .colab-df-convert {\n",
              "      background-color: #3B4455;\n",
              "      fill: #D2E3FC;\n",
              "    }\n",
              "\n",
              "    [theme=dark] .colab-df-convert:hover {\n",
              "      background-color: #434B5C;\n",
              "      box-shadow: 0px 1px 3px 1px rgba(0, 0, 0, 0.15);\n",
              "      filter: drop-shadow(0px 1px 2px rgba(0, 0, 0, 0.3));\n",
              "      fill: #FFFFFF;\n",
              "    }\n",
              "  </style>\n",
              "\n",
              "      <script>\n",
              "        const buttonEl =\n",
              "          document.querySelector('#df-e7c86741-b664-41f6-9426-a3ae21379e62 button.colab-df-convert');\n",
              "        buttonEl.style.display =\n",
              "          google.colab.kernel.accessAllowed ? 'block' : 'none';\n",
              "\n",
              "        async function convertToInteractive(key) {\n",
              "          const element = document.querySelector('#df-e7c86741-b664-41f6-9426-a3ae21379e62');\n",
              "          const dataTable =\n",
              "            await google.colab.kernel.invokeFunction('convertToInteractive',\n",
              "                                                     [key], {});\n",
              "          if (!dataTable) return;\n",
              "\n",
              "          const docLinkHtml = 'Like what you see? Visit the ' +\n",
              "            '<a target=\"_blank\" href=https://colab.research.google.com/notebooks/data_table.ipynb>data table notebook</a>'\n",
              "            + ' to learn more about interactive tables.';\n",
              "          element.innerHTML = '';\n",
              "          dataTable['output_type'] = 'display_data';\n",
              "          await google.colab.output.renderOutput(dataTable, element);\n",
              "          const docLink = document.createElement('div');\n",
              "          docLink.innerHTML = docLinkHtml;\n",
              "          element.appendChild(docLink);\n",
              "        }\n",
              "      </script>\n",
              "    </div>\n",
              "  </div>\n",
              "  "
            ]
          },
          "metadata": {},
          "execution_count": 70
        }
      ]
    },
    {
      "cell_type": "code",
      "source": [
        "df.columns"
      ],
      "metadata": {
        "colab": {
          "base_uri": "https://localhost:8080/"
        },
        "id": "6Rbwco1UhoLT",
        "outputId": "10af02ba-ee33-4aae-dc12-0b4cb88b5db1"
      },
      "execution_count": 71,
      "outputs": [
        {
          "output_type": "execute_result",
          "data": {
            "text/plain": [
              "Index(['Age', 'Weight', 'Length', 'BMI', 'DM', 'HTN', 'Current Smoker',\n",
              "       'EX-Smoker', 'FH', 'BP', 'PR', 'Edema', 'Typical Chest Pain',\n",
              "       'Function Class', 'Q Wave', 'St Elevation', 'St Depression',\n",
              "       'Tinversion', 'FBS', 'CR', 'TG', 'LDL', 'HDL', 'BUN', 'ESR', 'HB', 'K',\n",
              "       'Na', 'WBC', 'Lymph', 'Neut', 'PLT', 'EF-TTE', 'Region RWMA', 'Cath',\n",
              "       'Sex_Fmale', 'Sex_Male', 'Obesity_N', 'Obesity_Y', 'CRF_N', 'CRF_Y',\n",
              "       'CVA_N', 'CVA_Y', 'Airway disease_N', 'Airway disease_Y',\n",
              "       'Thyroid Disease_N', 'Thyroid Disease_Y', 'CHF_N', 'CHF_Y', 'DLP_N',\n",
              "       'DLP_Y', 'Weak Peripheral Pulse_N', 'Weak Peripheral Pulse_Y',\n",
              "       'Lung rales_N', 'Lung rales_Y', 'Systolic Murmur_N',\n",
              "       'Systolic Murmur_Y', 'Diastolic Murmur_N', 'Diastolic Murmur_Y',\n",
              "       'Dyspnea_N', 'Dyspnea_Y', 'Atypical_N', 'Atypical_Y', 'Nonanginal_N',\n",
              "       'Nonanginal_Y', 'Exertional CP_N', 'LowTH Ang_N', 'LowTH Ang_Y',\n",
              "       'LVH_N', 'LVH_Y', 'Poor R Progression_N', 'Poor R Progression_Y',\n",
              "       'BBB_LBBB', 'BBB_N', 'BBB_RBBB', 'VHD_Moderate', 'VHD_N', 'VHD_Severe',\n",
              "       'VHD_mild'],\n",
              "      dtype='object')"
            ]
          },
          "metadata": {},
          "execution_count": 71
        }
      ]
    },
    {
      "cell_type": "code",
      "source": [
        "num_columns = ['Age', 'Weight', 'Length', 'BMI', 'DM', 'HTN', 'Current Smoker','EX-Smoker', 'FH', 'BP', 'PR', 'Edema', 'Typical Chest Pain','Function Class', 'Q Wave', 'St Elevation', 'St Depression',\n",
        "       'Tinversion', 'FBS', 'CR', 'TG', 'LDL', 'HDL', 'BUN', 'ESR', 'HB', 'K',\n",
        "       'Na', 'WBC', 'Lymph', 'Neut', 'PLT', 'EF-TTE', 'Region RWMA']\n",
        "cat_columns= list(set(df.columns) - set(num_columns) - {\"Cath\"})"
      ],
      "metadata": {
        "id": "_FDBIM2rlLha"
      },
      "execution_count": 72,
      "outputs": []
    },
    {
      "cell_type": "code",
      "source": [
        "df.head()"
      ],
      "metadata": {
        "colab": {
          "base_uri": "https://localhost:8080/",
          "height": 0
        },
        "id": "HHiUSbcTo3x-",
        "outputId": "cbcb9484-fbb0-4248-91ba-bce89e933a54"
      },
      "execution_count": 73,
      "outputs": [
        {
          "output_type": "execute_result",
          "data": {
            "text/plain": [
              "   Age  Weight  Length        BMI  DM  HTN  Current Smoker  EX-Smoker  FH  \\\n",
              "0   53      90     175  29.387755   0    1               1          0   0   \n",
              "1   67      70     157  28.398718   0    1               0          0   0   \n",
              "2   54      54     164  20.077335   0    0               1          0   0   \n",
              "3   66      67     158  26.838648   0    1               0          0   0   \n",
              "4   50      87     153  37.165193   0    1               0          0   0   \n",
              "\n",
              "    BP  ...  LVH_Y  Poor R Progression_N  Poor R Progression_Y  BBB_LBBB  \\\n",
              "0  110  ...      0                     1                     0         0   \n",
              "1  140  ...      0                     1                     0         0   \n",
              "2  100  ...      0                     1                     0         0   \n",
              "3  100  ...      0                     1                     0         0   \n",
              "4  110  ...      0                     1                     0         0   \n",
              "\n",
              "   BBB_N  BBB_RBBB  VHD_Moderate  VHD_N  VHD_Severe  VHD_mild  \n",
              "0      1         0             0      1           0         0  \n",
              "1      1         0             0      1           0         0  \n",
              "2      1         0             0      0           0         1  \n",
              "3      1         0             0      0           1         0  \n",
              "4      1         0             0      0           1         0  \n",
              "\n",
              "[5 rows x 79 columns]"
            ],
            "text/html": [
              "\n",
              "  <div id=\"df-64562cb8-c0fa-4b64-90c3-dc76ac8771b8\">\n",
              "    <div class=\"colab-df-container\">\n",
              "      <div>\n",
              "<style scoped>\n",
              "    .dataframe tbody tr th:only-of-type {\n",
              "        vertical-align: middle;\n",
              "    }\n",
              "\n",
              "    .dataframe tbody tr th {\n",
              "        vertical-align: top;\n",
              "    }\n",
              "\n",
              "    .dataframe thead th {\n",
              "        text-align: right;\n",
              "    }\n",
              "</style>\n",
              "<table border=\"1\" class=\"dataframe\">\n",
              "  <thead>\n",
              "    <tr style=\"text-align: right;\">\n",
              "      <th></th>\n",
              "      <th>Age</th>\n",
              "      <th>Weight</th>\n",
              "      <th>Length</th>\n",
              "      <th>BMI</th>\n",
              "      <th>DM</th>\n",
              "      <th>HTN</th>\n",
              "      <th>Current Smoker</th>\n",
              "      <th>EX-Smoker</th>\n",
              "      <th>FH</th>\n",
              "      <th>BP</th>\n",
              "      <th>...</th>\n",
              "      <th>LVH_Y</th>\n",
              "      <th>Poor R Progression_N</th>\n",
              "      <th>Poor R Progression_Y</th>\n",
              "      <th>BBB_LBBB</th>\n",
              "      <th>BBB_N</th>\n",
              "      <th>BBB_RBBB</th>\n",
              "      <th>VHD_Moderate</th>\n",
              "      <th>VHD_N</th>\n",
              "      <th>VHD_Severe</th>\n",
              "      <th>VHD_mild</th>\n",
              "    </tr>\n",
              "  </thead>\n",
              "  <tbody>\n",
              "    <tr>\n",
              "      <th>0</th>\n",
              "      <td>53</td>\n",
              "      <td>90</td>\n",
              "      <td>175</td>\n",
              "      <td>29.387755</td>\n",
              "      <td>0</td>\n",
              "      <td>1</td>\n",
              "      <td>1</td>\n",
              "      <td>0</td>\n",
              "      <td>0</td>\n",
              "      <td>110</td>\n",
              "      <td>...</td>\n",
              "      <td>0</td>\n",
              "      <td>1</td>\n",
              "      <td>0</td>\n",
              "      <td>0</td>\n",
              "      <td>1</td>\n",
              "      <td>0</td>\n",
              "      <td>0</td>\n",
              "      <td>1</td>\n",
              "      <td>0</td>\n",
              "      <td>0</td>\n",
              "    </tr>\n",
              "    <tr>\n",
              "      <th>1</th>\n",
              "      <td>67</td>\n",
              "      <td>70</td>\n",
              "      <td>157</td>\n",
              "      <td>28.398718</td>\n",
              "      <td>0</td>\n",
              "      <td>1</td>\n",
              "      <td>0</td>\n",
              "      <td>0</td>\n",
              "      <td>0</td>\n",
              "      <td>140</td>\n",
              "      <td>...</td>\n",
              "      <td>0</td>\n",
              "      <td>1</td>\n",
              "      <td>0</td>\n",
              "      <td>0</td>\n",
              "      <td>1</td>\n",
              "      <td>0</td>\n",
              "      <td>0</td>\n",
              "      <td>1</td>\n",
              "      <td>0</td>\n",
              "      <td>0</td>\n",
              "    </tr>\n",
              "    <tr>\n",
              "      <th>2</th>\n",
              "      <td>54</td>\n",
              "      <td>54</td>\n",
              "      <td>164</td>\n",
              "      <td>20.077335</td>\n",
              "      <td>0</td>\n",
              "      <td>0</td>\n",
              "      <td>1</td>\n",
              "      <td>0</td>\n",
              "      <td>0</td>\n",
              "      <td>100</td>\n",
              "      <td>...</td>\n",
              "      <td>0</td>\n",
              "      <td>1</td>\n",
              "      <td>0</td>\n",
              "      <td>0</td>\n",
              "      <td>1</td>\n",
              "      <td>0</td>\n",
              "      <td>0</td>\n",
              "      <td>0</td>\n",
              "      <td>0</td>\n",
              "      <td>1</td>\n",
              "    </tr>\n",
              "    <tr>\n",
              "      <th>3</th>\n",
              "      <td>66</td>\n",
              "      <td>67</td>\n",
              "      <td>158</td>\n",
              "      <td>26.838648</td>\n",
              "      <td>0</td>\n",
              "      <td>1</td>\n",
              "      <td>0</td>\n",
              "      <td>0</td>\n",
              "      <td>0</td>\n",
              "      <td>100</td>\n",
              "      <td>...</td>\n",
              "      <td>0</td>\n",
              "      <td>1</td>\n",
              "      <td>0</td>\n",
              "      <td>0</td>\n",
              "      <td>1</td>\n",
              "      <td>0</td>\n",
              "      <td>0</td>\n",
              "      <td>0</td>\n",
              "      <td>1</td>\n",
              "      <td>0</td>\n",
              "    </tr>\n",
              "    <tr>\n",
              "      <th>4</th>\n",
              "      <td>50</td>\n",
              "      <td>87</td>\n",
              "      <td>153</td>\n",
              "      <td>37.165193</td>\n",
              "      <td>0</td>\n",
              "      <td>1</td>\n",
              "      <td>0</td>\n",
              "      <td>0</td>\n",
              "      <td>0</td>\n",
              "      <td>110</td>\n",
              "      <td>...</td>\n",
              "      <td>0</td>\n",
              "      <td>1</td>\n",
              "      <td>0</td>\n",
              "      <td>0</td>\n",
              "      <td>1</td>\n",
              "      <td>0</td>\n",
              "      <td>0</td>\n",
              "      <td>0</td>\n",
              "      <td>1</td>\n",
              "      <td>0</td>\n",
              "    </tr>\n",
              "  </tbody>\n",
              "</table>\n",
              "<p>5 rows × 79 columns</p>\n",
              "</div>\n",
              "      <button class=\"colab-df-convert\" onclick=\"convertToInteractive('df-64562cb8-c0fa-4b64-90c3-dc76ac8771b8')\"\n",
              "              title=\"Convert this dataframe to an interactive table.\"\n",
              "              style=\"display:none;\">\n",
              "        \n",
              "  <svg xmlns=\"http://www.w3.org/2000/svg\" height=\"24px\"viewBox=\"0 0 24 24\"\n",
              "       width=\"24px\">\n",
              "    <path d=\"M0 0h24v24H0V0z\" fill=\"none\"/>\n",
              "    <path d=\"M18.56 5.44l.94 2.06.94-2.06 2.06-.94-2.06-.94-.94-2.06-.94 2.06-2.06.94zm-11 1L8.5 8.5l.94-2.06 2.06-.94-2.06-.94L8.5 2.5l-.94 2.06-2.06.94zm10 10l.94 2.06.94-2.06 2.06-.94-2.06-.94-.94-2.06-.94 2.06-2.06.94z\"/><path d=\"M17.41 7.96l-1.37-1.37c-.4-.4-.92-.59-1.43-.59-.52 0-1.04.2-1.43.59L10.3 9.45l-7.72 7.72c-.78.78-.78 2.05 0 2.83L4 21.41c.39.39.9.59 1.41.59.51 0 1.02-.2 1.41-.59l7.78-7.78 2.81-2.81c.8-.78.8-2.07 0-2.86zM5.41 20L4 18.59l7.72-7.72 1.47 1.35L5.41 20z\"/>\n",
              "  </svg>\n",
              "      </button>\n",
              "      \n",
              "  <style>\n",
              "    .colab-df-container {\n",
              "      display:flex;\n",
              "      flex-wrap:wrap;\n",
              "      gap: 12px;\n",
              "    }\n",
              "\n",
              "    .colab-df-convert {\n",
              "      background-color: #E8F0FE;\n",
              "      border: none;\n",
              "      border-radius: 50%;\n",
              "      cursor: pointer;\n",
              "      display: none;\n",
              "      fill: #1967D2;\n",
              "      height: 32px;\n",
              "      padding: 0 0 0 0;\n",
              "      width: 32px;\n",
              "    }\n",
              "\n",
              "    .colab-df-convert:hover {\n",
              "      background-color: #E2EBFA;\n",
              "      box-shadow: 0px 1px 2px rgba(60, 64, 67, 0.3), 0px 1px 3px 1px rgba(60, 64, 67, 0.15);\n",
              "      fill: #174EA6;\n",
              "    }\n",
              "\n",
              "    [theme=dark] .colab-df-convert {\n",
              "      background-color: #3B4455;\n",
              "      fill: #D2E3FC;\n",
              "    }\n",
              "\n",
              "    [theme=dark] .colab-df-convert:hover {\n",
              "      background-color: #434B5C;\n",
              "      box-shadow: 0px 1px 3px 1px rgba(0, 0, 0, 0.15);\n",
              "      filter: drop-shadow(0px 1px 2px rgba(0, 0, 0, 0.3));\n",
              "      fill: #FFFFFF;\n",
              "    }\n",
              "  </style>\n",
              "\n",
              "      <script>\n",
              "        const buttonEl =\n",
              "          document.querySelector('#df-64562cb8-c0fa-4b64-90c3-dc76ac8771b8 button.colab-df-convert');\n",
              "        buttonEl.style.display =\n",
              "          google.colab.kernel.accessAllowed ? 'block' : 'none';\n",
              "\n",
              "        async function convertToInteractive(key) {\n",
              "          const element = document.querySelector('#df-64562cb8-c0fa-4b64-90c3-dc76ac8771b8');\n",
              "          const dataTable =\n",
              "            await google.colab.kernel.invokeFunction('convertToInteractive',\n",
              "                                                     [key], {});\n",
              "          if (!dataTable) return;\n",
              "\n",
              "          const docLinkHtml = 'Like what you see? Visit the ' +\n",
              "            '<a target=\"_blank\" href=https://colab.research.google.com/notebooks/data_table.ipynb>data table notebook</a>'\n",
              "            + ' to learn more about interactive tables.';\n",
              "          element.innerHTML = '';\n",
              "          dataTable['output_type'] = 'display_data';\n",
              "          await google.colab.output.renderOutput(dataTable, element);\n",
              "          const docLink = document.createElement('div');\n",
              "          docLink.innerHTML = docLinkHtml;\n",
              "          element.appendChild(docLink);\n",
              "        }\n",
              "      </script>\n",
              "    </div>\n",
              "  </div>\n",
              "  "
            ]
          },
          "metadata": {},
          "execution_count": 73
        }
      ]
    },
    {
      "cell_type": "code",
      "source": [
        "num_columns"
      ],
      "metadata": {
        "colab": {
          "base_uri": "https://localhost:8080/"
        },
        "id": "TawhT810PuH4",
        "outputId": "514de588-d94f-49ee-81e4-cb72e284e5fc"
      },
      "execution_count": 74,
      "outputs": [
        {
          "output_type": "execute_result",
          "data": {
            "text/plain": [
              "['Age',\n",
              " 'Weight',\n",
              " 'Length',\n",
              " 'BMI',\n",
              " 'DM',\n",
              " 'HTN',\n",
              " 'Current Smoker',\n",
              " 'EX-Smoker',\n",
              " 'FH',\n",
              " 'BP',\n",
              " 'PR',\n",
              " 'Edema',\n",
              " 'Typical Chest Pain',\n",
              " 'Function Class',\n",
              " 'Q Wave',\n",
              " 'St Elevation',\n",
              " 'St Depression',\n",
              " 'Tinversion',\n",
              " 'FBS',\n",
              " 'CR',\n",
              " 'TG',\n",
              " 'LDL',\n",
              " 'HDL',\n",
              " 'BUN',\n",
              " 'ESR',\n",
              " 'HB',\n",
              " 'K',\n",
              " 'Na',\n",
              " 'WBC',\n",
              " 'Lymph',\n",
              " 'Neut',\n",
              " 'PLT',\n",
              " 'EF-TTE',\n",
              " 'Region RWMA']"
            ]
          },
          "metadata": {},
          "execution_count": 74
        }
      ]
    },
    {
      "cell_type": "code",
      "source": [
        "cat_columns"
      ],
      "metadata": {
        "colab": {
          "base_uri": "https://localhost:8080/"
        },
        "id": "kT1Z0LcPPxy1",
        "outputId": "fbb78978-6e84-4150-960a-68a877e945c9"
      },
      "execution_count": 75,
      "outputs": [
        {
          "output_type": "execute_result",
          "data": {
            "text/plain": [
              "['Sex_Fmale',\n",
              " 'Atypical_Y',\n",
              " 'LowTH Ang_N',\n",
              " 'Weak Peripheral Pulse_N',\n",
              " 'LowTH Ang_Y',\n",
              " 'BBB_LBBB',\n",
              " 'Weak Peripheral Pulse_Y',\n",
              " 'CVA_Y',\n",
              " 'Thyroid Disease_N',\n",
              " 'Nonanginal_Y',\n",
              " 'CHF_Y',\n",
              " 'LVH_Y',\n",
              " 'Lung rales_Y',\n",
              " 'VHD_Moderate',\n",
              " 'Systolic Murmur_Y',\n",
              " 'VHD_N',\n",
              " 'Sex_Male',\n",
              " 'Airway disease_Y',\n",
              " 'Dyspnea_N',\n",
              " 'Nonanginal_N',\n",
              " 'Lung rales_N',\n",
              " 'Diastolic Murmur_N',\n",
              " 'BBB_RBBB',\n",
              " 'CVA_N',\n",
              " 'VHD_mild',\n",
              " 'Atypical_N',\n",
              " 'Airway disease_N',\n",
              " 'DLP_N',\n",
              " 'Systolic Murmur_N',\n",
              " 'Poor R Progression_Y',\n",
              " 'Diastolic Murmur_Y',\n",
              " 'CRF_N',\n",
              " 'Obesity_Y',\n",
              " 'Obesity_N',\n",
              " 'Thyroid Disease_Y',\n",
              " 'Exertional CP_N',\n",
              " 'LVH_N',\n",
              " 'VHD_Severe',\n",
              " 'DLP_Y',\n",
              " 'CRF_Y',\n",
              " 'Dyspnea_Y',\n",
              " 'BBB_N',\n",
              " 'Poor R Progression_N',\n",
              " 'CHF_N']"
            ]
          },
          "metadata": {},
          "execution_count": 75
        }
      ]
    },
    {
      "cell_type": "code",
      "source": [
        "mycol = df[[\"Cath\"]]\n",
        "for i in mycol:\n",
        "    cleanup_nums = {i: {\"Normal\": 0, \"Cad\": 1}}\n",
        "    df = df.replace(cleanup_nums)"
      ],
      "metadata": {
        "id": "xx1o17nOP1WB"
      },
      "execution_count": 76,
      "outputs": []
    },
    {
      "cell_type": "code",
      "source": [
        "df['Cath'].value_counts()"
      ],
      "metadata": {
        "colab": {
          "base_uri": "https://localhost:8080/"
        },
        "id": "JJREQ8VCTAOg",
        "outputId": "9242ab34-6872-4be2-824a-e15d99fd5586"
      },
      "execution_count": 77,
      "outputs": [
        {
          "output_type": "execute_result",
          "data": {
            "text/plain": [
              "1    216\n",
              "0     87\n",
              "Name: Cath, dtype: int64"
            ]
          },
          "metadata": {},
          "execution_count": 77
        }
      ]
    },
    {
      "cell_type": "markdown",
      "source": [
        "## Numerical encoding"
      ],
      "metadata": {
        "id": "78lt-HFDwl_g"
      }
    },
    {
      "cell_type": "code",
      "source": [
        "scaler = StandardScaler()\n",
        "\n",
        "def get_features_and_target_arrays(df,num_columns,cat_columns,scaler):\n",
        "  x_numerical_scaled=scaler.fit_transform(df[num_columns])    \n",
        "  x_categorical=df[cat_columns].to_numpy()\n",
        "  x=np.hstack((x_categorical,x_numerical_scaled))    #merging all array values to one\n",
        "  y=df[\"Cath\"]                                        #a=[1,2,3] b= [4,5,6] c=np.hstack((a,b))  => [1,2,3,4,5,6] \n",
        "  return x , y\n",
        "          \n",
        "          \n"
      ],
      "metadata": {
        "id": "q5v5Bos3RI_P"
      },
      "execution_count": 78,
      "outputs": []
    },
    {
      "cell_type": "markdown",
      "source": [
        "## spliting data"
      ],
      "metadata": {
        "id": "fIZBGXu_Qf0c"
      }
    },
    {
      "cell_type": "code",
      "source": [
        "df_train , df_test = train_test_split(df, test_size= 0.1, random_state = 42)"
      ],
      "metadata": {
        "id": "_DMrHaIvQqP7"
      },
      "execution_count": 79,
      "outputs": []
    },
    {
      "cell_type": "code",
      "source": [
        "len(df_train) , len(df_test) , len(df)"
      ],
      "metadata": {
        "colab": {
          "base_uri": "https://localhost:8080/"
        },
        "id": "ELaGaJVnRHp6",
        "outputId": "d07e1cfd-fafb-4e13-c5e0-6e1bf8eddc9b"
      },
      "execution_count": 80,
      "outputs": [
        {
          "output_type": "execute_result",
          "data": {
            "text/plain": [
              "(272, 31, 303)"
            ]
          },
          "metadata": {},
          "execution_count": 80
        }
      ]
    },
    {
      "cell_type": "code",
      "source": [
        "\n",
        "x_train , y_train = get_features_and_target_arrays(df_train,num_columns,cat_columns,scaler)"
      ],
      "metadata": {
        "id": "P0RrA71dYJmJ"
      },
      "execution_count": 81,
      "outputs": []
    },
    {
      "cell_type": "markdown",
      "source": [
        "# Analysis without feature selection\n"
      ],
      "metadata": {
        "id": "nipcIL1Ncitx"
      }
    },
    {
      "cell_type": "markdown",
      "source": [
        "## LOGISTIC REGRESSION"
      ],
      "metadata": {
        "id": "toHnJ1xOmKvX"
      }
    },
    {
      "cell_type": "code",
      "source": [
        "#Logisitic regreesion classifier\n",
        "lr_clf=LogisticRegression()\n",
        "lr_clf.fit(x_train , y_train)\n",
        "x_test , y_test = get_features_and_target_arrays(df_test,num_columns,cat_columns,scaler)\n",
        "lr_pred=lr_clf.predict(x_test)\n",
        "print(\"MEAN SQUARE ERROR: \",mean_squared_error(y_test,lr_pred))\n",
        "print(\"ACCURACY SCORE: \",accuracy_score(y_test,lr_pred))\n",
        "# print(confusion_matrix(y_test,lr_pred))\n",
        "\n",
        "# Plotting the confusion matrix\n",
        "\n",
        "cm = confusion_matrix(y_test,lr_pred, labels = lr_clf.classes_)\n",
        "disp = ConfusionMatrixDisplay(confusion_matrix = cm, display_labels = lr_clf.classes_)\n",
        "disp.plot()"
      ],
      "metadata": {
        "colab": {
          "base_uri": "https://localhost:8080/",
          "height": 0
        },
        "id": "QiWBff3fcnet",
        "outputId": "62087e1d-7b9e-4a88-b3a3-0fad09d868e1"
      },
      "execution_count": 82,
      "outputs": [
        {
          "output_type": "stream",
          "name": "stdout",
          "text": [
            "MEAN SQUARE ERROR:  0.0967741935483871\n",
            "ACCURACY SCORE:  0.9032258064516129\n"
          ]
        },
        {
          "output_type": "execute_result",
          "data": {
            "text/plain": [
              "<sklearn.metrics._plot.confusion_matrix.ConfusionMatrixDisplay at 0x7f0d6669ef10>"
            ]
          },
          "metadata": {},
          "execution_count": 82
        },
        {
          "output_type": "display_data",
          "data": {
            "text/plain": [
              "<Figure size 432x288 with 2 Axes>"
            ],
            "image/png": "[encoded data removed]"
          },
          "metadata": {
            "needs_background": "light"
          }
        }
      ]
    },
    {
      "cell_type": "markdown",
      "source": [
        "## Decision Tree Classifier\n",
        "\n",
        "\n"
      ],
      "metadata": {
        "id": "ZILB3fgSix__"
      }
    },
    {
      "cell_type": "code",
      "source": [
        "#decision tree classifier\n",
        "dtree_clf=DecisionTreeClassifier()\n",
        "dtree_clf.fit(x_train,y_train)\n",
        "dtree_pred=dtree_clf.predict(x_test)\n",
        "print(\"MEAN SQUARE ERROR: \",mean_squared_error(y_test,dtree_pred))\n",
        "print(\"ACCURACY SCORE: \",accuracy_score(y_test,dtree_pred))\n",
        "print(confusion_matrix(y_test,dtree_pred))\n",
        "cm = confusion_matrix(y_test,dtree_pred, labels = dtree_clf.classes_)\n",
        "disp = ConfusionMatrixDisplay(confusion_matrix = cm, display_labels = dtree_clf.classes_)\n",
        "disp.plot()"
      ],
      "metadata": {
        "colab": {
          "base_uri": "https://localhost:8080/",
          "height": 0
        },
        "id": "QpuGllA6iIb2",
        "outputId": "b0c3f2f9-6ae3-44d5-8388-59441931dad9"
      },
      "execution_count": 83,
      "outputs": [
        {
          "output_type": "stream",
          "name": "stdout",
          "text": [
            "MEAN SQUARE ERROR:  0.22580645161290322\n",
            "ACCURACY SCORE:  0.7741935483870968\n",
            "[[ 3  5]\n",
            " [ 2 21]]\n"
          ]
        },
        {
          "output_type": "execute_result",
          "data": {
            "text/plain": [
              "<sklearn.metrics._plot.confusion_matrix.ConfusionMatrixDisplay at 0x7f0d67567490>"
            ]
          },
          "metadata": {},
          "execution_count": 83
        },
        {
          "output_type": "display_data",
          "data": {
            "text/plain": [
              "<Figure size 432x288 with 2 Axes>"
            ],
            "image/png": "[encoded data removed]"
          },
          "metadata": {
            "needs_background": "light"
          }
        }
      ]
    },
    {
      "cell_type": "markdown",
      "source": [
        "## Random Forest\n"
      ],
      "metadata": {
        "id": "LDA1AE1DnX6s"
      }
    },
    {
      "cell_type": "code",
      "source": [
        "#Random Forest classifier\n",
        "Rforest_clf=RandomForestClassifier()\n",
        "Rforest_clf.fit(x_train,y_train)\n",
        "Rforest_pred=Rforest_clf.predict(x_test)\n",
        "print(\"MEAN SQUARE ERROR: \",mean_squared_error(y_test,Rforest_pred))\n",
        "print(\"ACCURACY ERROR: \",accuracy_score(y_test,Rforest_pred))\n",
        "\n",
        "cm = confusion_matrix(y_test,Rforest_pred, labels = Rforest_clf.classes_)\n",
        "disp = ConfusionMatrixDisplay(confusion_matrix = cm, display_labels = Rforest_clf.classes_)\n",
        "disp.plot()"
      ],
      "metadata": {
        "colab": {
          "base_uri": "https://localhost:8080/",
          "height": 0
        },
        "id": "yTjagDhxnay8",
        "outputId": "41777b54-d90e-43e8-cc32-063344b15bb3"
      },
      "execution_count": 84,
      "outputs": [
        {
          "output_type": "stream",
          "name": "stdout",
          "text": [
            "MEAN SQUARE ERROR:  0.0967741935483871\n",
            "ACCURACY ERROR:  0.9032258064516129\n"
          ]
        },
        {
          "output_type": "execute_result",
          "data": {
            "text/plain": [
              "<sklearn.metrics._plot.confusion_matrix.ConfusionMatrixDisplay at 0x7f0d68270210>"
            ]
          },
          "metadata": {},
          "execution_count": 84
        },
        {
          "output_type": "display_data",
          "data": {
            "text/plain": [
              "<Figure size 432x288 with 2 Axes>"
            ],
            "image/png": "[encoded data removed]"
          },
          "metadata": {
            "needs_background": "light"
          }
        }
      ]
    },
    {
      "cell_type": "markdown",
      "source": [
        "## SVM"
      ],
      "metadata": {
        "id": "fygeyp2JpGcM"
      }
    },
    {
      "cell_type": "code",
      "source": [
        "#SVM classifier\n",
        "SVM_clf=SVC()\n",
        "SVM_clf.fit(x_train,y_train)\n",
        "SVM_pred=SVM_clf.predict(x_test)\n",
        "print(\"MEAN SQUARE ERROR: \",mean_squared_error(y_test,SVM_pred))\n",
        "print(\"ACCURACY SCORE: \",accuracy_score(y_test,SVM_pred))\n",
        "cm = confusion_matrix(y_test,SVM_pred, labels = SVM_clf.classes_)\n",
        "disp = ConfusionMatrixDisplay(confusion_matrix = cm, display_labels = SVM_clf.classes_)\n",
        "disp.plot()"
      ],
      "metadata": {
        "colab": {
          "base_uri": "https://localhost:8080/",
          "height": 0
        },
        "id": "h__UNBeUoxnI",
        "outputId": "4614fed1-a9f3-4a68-8e6f-f29a20f5e7f8"
      },
      "execution_count": 85,
      "outputs": [
        {
          "output_type": "stream",
          "name": "stdout",
          "text": [
            "MEAN SQUARE ERROR:  0.0967741935483871\n",
            "ACCURACY SCORE:  0.9032258064516129\n"
          ]
        },
        {
          "output_type": "execute_result",
          "data": {
            "text/plain": [
              "<sklearn.metrics._plot.confusion_matrix.ConfusionMatrixDisplay at 0x7f0d66541cd0>"
            ]
          },
          "metadata": {},
          "execution_count": 85
        },
        {
          "output_type": "display_data",
          "data": {
            "text/plain": [
              "<Figure size 432x288 with 2 Axes>"
            ],
            "image/png": "[encoded data removed]"
          },
          "metadata": {
            "needs_background": "light"
          }
        }
      ]
    },
    {
      "cell_type": "markdown",
      "source": [
        "## KNN"
      ],
      "metadata": {
        "id": "Xb5Pr725sVE8"
      }
    },
    {
      "cell_type": "code",
      "source": [
        "#knn classifier\n",
        "knn_clf = KNeighborsClassifier(n_neighbors=6)\n",
        "knn_clf.fit(x_train,y_train)\n",
        "knn_pred = knn_clf.predict(x_test)\n",
        "print(\"MEAN SQUARE ERROR: \",mean_squared_error(y_test,knn_pred))\n",
        "print(\"ACCURACY SCORE: \",accuracy_score(y_test,knn_pred))\n",
        "#print(confusion_matrix(y_test,knn_pred))\n",
        "cm = confusion_matrix(y_test,knn_pred, labels = knn_clf.classes_)\n",
        "disp = ConfusionMatrixDisplay(confusion_matrix = cm, display_labels = knn_clf.classes_)\n",
        "disp.plot()"
      ],
      "metadata": {
        "colab": {
          "base_uri": "https://localhost:8080/",
          "height": 0
        },
        "id": "oEzVPeBRsWok",
        "outputId": "cff38c14-3418-426a-ba06-697e877b9e90"
      },
      "execution_count": 86,
      "outputs": [
        {
          "output_type": "stream",
          "name": "stdout",
          "text": [
            "MEAN SQUARE ERROR:  0.0967741935483871\n",
            "ACCURACY SCORE:  0.9032258064516129\n"
          ]
        },
        {
          "output_type": "execute_result",
          "data": {
            "text/plain": [
              "<sklearn.metrics._plot.confusion_matrix.ConfusionMatrixDisplay at 0x7f0d66b56350>"
            ]
          },
          "metadata": {},
          "execution_count": 86
        },
        {
          "output_type": "display_data",
          "data": {
            "text/plain": [
              "<Figure size 432x288 with 2 Axes>"
            ],
            "image/png": "[encoded data removed]"
          },
          "metadata": {
            "needs_background": "light"
          }
        }
      ]
    },
    {
      "cell_type": "code",
      "source": [
        ""
      ],
      "metadata": {
        "id": "vX_OszEosumr"
      },
      "execution_count": 86,
      "outputs": []
    },
    {
      "cell_type": "markdown",
      "source": [
        "# Feature Selection "
      ],
      "metadata": {
        "id": "cry6RvPmzySu"
      }
    },
    {
      "cell_type": "markdown",
      "source": [
        "##boruta feature selection"
      ],
      "metadata": {
        "id": "IwTBzxsM0GDC"
      }
    },
    {
      "cell_type": "code",
      "source": [
        "rfc = RandomForestClassifier(random_state=1, n_estimators=1000, max_depth=5)\n",
        "boruta_selector = BorutaPy(rfc, n_estimators='auto', verbose=2, random_state=1)\n",
        "boruta_selector.fit(np.array(x_train), np.array(y_train)) \n"
      ],
      "metadata": {
        "colab": {
          "base_uri": "https://localhost:8080/"
        },
        "id": "JTX9uo3lz05J",
        "outputId": "d240f37c-ca28-441f-ef9a-1341ad45d036"
      },
      "execution_count": 87,
      "outputs": [
        {
          "output_type": "stream",
          "name": "stdout",
          "text": [
            "Iteration: \t1 / 100\n",
            "Confirmed: \t0\n",
            "Tentative: \t78\n",
            "Rejected: \t0\n",
            "Iteration: \t2 / 100\n",
            "Confirmed: \t0\n",
            "Tentative: \t78\n",
            "Rejected: \t0\n",
            "Iteration: \t3 / 100\n",
            "Confirmed: \t0\n",
            "Tentative: \t78\n",
            "Rejected: \t0\n",
            "Iteration: \t4 / 100\n",
            "Confirmed: \t0\n",
            "Tentative: \t78\n",
            "Rejected: \t0\n",
            "Iteration: \t5 / 100\n",
            "Confirmed: \t0\n",
            "Tentative: \t78\n",
            "Rejected: \t0\n",
            "Iteration: \t6 / 100\n",
            "Confirmed: \t0\n",
            "Tentative: \t78\n",
            "Rejected: \t0\n",
            "Iteration: \t7 / 100\n",
            "Confirmed: \t0\n",
            "Tentative: \t78\n",
            "Rejected: \t0\n",
            "Iteration: \t8 / 100\n",
            "Confirmed: \t7\n",
            "Tentative: \t10\n",
            "Rejected: \t61\n",
            "Iteration: \t9 / 100\n",
            "Confirmed: \t7\n",
            "Tentative: \t10\n",
            "Rejected: \t61\n",
            "Iteration: \t10 / 100\n",
            "Confirmed: \t7\n",
            "Tentative: \t10\n",
            "Rejected: \t61\n",
            "Iteration: \t11 / 100\n",
            "Confirmed: \t7\n",
            "Tentative: \t10\n",
            "Rejected: \t61\n",
            "Iteration: \t12 / 100\n",
            "Confirmed: \t7\n",
            "Tentative: \t10\n",
            "Rejected: \t61\n",
            "Iteration: \t13 / 100\n",
            "Confirmed: \t7\n",
            "Tentative: \t9\n",
            "Rejected: \t62\n",
            "Iteration: \t14 / 100\n",
            "Confirmed: \t7\n",
            "Tentative: \t9\n",
            "Rejected: \t62\n",
            "Iteration: \t15 / 100\n",
            "Confirmed: \t7\n",
            "Tentative: \t9\n",
            "Rejected: \t62\n",
            "Iteration: \t16 / 100\n",
            "Confirmed: \t7\n",
            "Tentative: \t9\n",
            "Rejected: \t62\n",
            "Iteration: \t17 / 100\n",
            "Confirmed: \t7\n",
            "Tentative: \t9\n",
            "Rejected: \t62\n",
            "Iteration: \t18 / 100\n",
            "Confirmed: \t7\n",
            "Tentative: \t9\n",
            "Rejected: \t62\n",
            "Iteration: \t19 / 100\n",
            "Confirmed: \t7\n",
            "Tentative: \t8\n",
            "Rejected: \t63\n",
            "Iteration: \t20 / 100\n",
            "Confirmed: \t7\n",
            "Tentative: \t8\n",
            "Rejected: \t63\n",
            "Iteration: \t21 / 100\n",
            "Confirmed: \t7\n",
            "Tentative: \t8\n",
            "Rejected: \t63\n",
            "Iteration: \t22 / 100\n",
            "Confirmed: \t8\n",
            "Tentative: \t7\n",
            "Rejected: \t63\n",
            "Iteration: \t23 / 100\n",
            "Confirmed: \t8\n",
            "Tentative: \t7\n",
            "Rejected: \t63\n",
            "Iteration: \t24 / 100\n",
            "Confirmed: \t8\n",
            "Tentative: \t7\n",
            "Rejected: \t63\n",
            "Iteration: \t25 / 100\n",
            "Confirmed: \t8\n",
            "Tentative: \t7\n",
            "Rejected: \t63\n",
            "Iteration: \t26 / 100\n",
            "Confirmed: \t8\n",
            "Tentative: \t7\n",
            "Rejected: \t63\n",
            "Iteration: \t27 / 100\n",
            "Confirmed: \t8\n",
            "Tentative: \t7\n",
            "Rejected: \t63\n",
            "Iteration: \t28 / 100\n",
            "Confirmed: \t8\n",
            "Tentative: \t7\n",
            "Rejected: \t63\n",
            "Iteration: \t29 / 100\n",
            "Confirmed: \t8\n",
            "Tentative: \t7\n",
            "Rejected: \t63\n",
            "Iteration: \t30 / 100\n",
            "Confirmed: \t8\n",
            "Tentative: \t7\n",
            "Rejected: \t63\n",
            "Iteration: \t31 / 100\n",
            "Confirmed: \t8\n",
            "Tentative: \t7\n",
            "Rejected: \t63\n",
            "Iteration: \t32 / 100\n",
            "Confirmed: \t8\n",
            "Tentative: \t6\n",
            "Rejected: \t64\n",
            "Iteration: \t33 / 100\n",
            "Confirmed: \t8\n",
            "Tentative: \t6\n",
            "Rejected: \t64\n",
            "Iteration: \t34 / 100\n",
            "Confirmed: \t8\n",
            "Tentative: \t6\n",
            "Rejected: \t64\n",
            "Iteration: \t35 / 100\n",
            "Confirmed: \t8\n",
            "Tentative: \t6\n",
            "Rejected: \t64\n",
            "Iteration: \t36 / 100\n",
            "Confirmed: \t8\n",
            "Tentative: \t6\n",
            "Rejected: \t64\n",
            "Iteration: \t37 / 100\n",
            "Confirmed: \t9\n",
            "Tentative: \t5\n",
            "Rejected: \t64\n",
            "Iteration: \t38 / 100\n",
            "Confirmed: \t9\n",
            "Tentative: \t5\n",
            "Rejected: \t64\n",
            "Iteration: \t39 / 100\n",
            "Confirmed: \t9\n",
            "Tentative: \t5\n",
            "Rejected: \t64\n",
            "Iteration: \t40 / 100\n",
            "Confirmed: \t9\n",
            "Tentative: \t5\n",
            "Rejected: \t64\n",
            "Iteration: \t41 / 100\n",
            "Confirmed: \t9\n",
            "Tentative: \t5\n",
            "Rejected: \t64\n",
            "Iteration: \t42 / 100\n",
            "Confirmed: \t9\n",
            "Tentative: \t5\n",
            "Rejected: \t64\n",
            "Iteration: \t43 / 100\n",
            "Confirmed: \t9\n",
            "Tentative: \t5\n",
            "Rejected: \t64\n",
            "Iteration: \t44 / 100\n",
            "Confirmed: \t9\n",
            "Tentative: \t5\n",
            "Rejected: \t64\n",
            "Iteration: \t45 / 100\n",
            "Confirmed: \t9\n",
            "Tentative: \t5\n",
            "Rejected: \t64\n",
            "Iteration: \t46 / 100\n",
            "Confirmed: \t9\n",
            "Tentative: \t5\n",
            "Rejected: \t64\n",
            "Iteration: \t47 / 100\n",
            "Confirmed: \t9\n",
            "Tentative: \t5\n",
            "Rejected: \t64\n",
            "Iteration: \t48 / 100\n",
            "Confirmed: \t9\n",
            "Tentative: \t5\n",
            "Rejected: \t64\n",
            "Iteration: \t49 / 100\n",
            "Confirmed: \t9\n",
            "Tentative: \t5\n",
            "Rejected: \t64\n",
            "Iteration: \t50 / 100\n",
            "Confirmed: \t9\n",
            "Tentative: \t5\n",
            "Rejected: \t64\n",
            "Iteration: \t51 / 100\n",
            "Confirmed: \t9\n",
            "Tentative: \t5\n",
            "Rejected: \t64\n",
            "Iteration: \t52 / 100\n",
            "Confirmed: \t9\n",
            "Tentative: \t5\n",
            "Rejected: \t64\n",
            "Iteration: \t53 / 100\n",
            "Confirmed: \t9\n",
            "Tentative: \t5\n",
            "Rejected: \t64\n",
            "Iteration: \t54 / 100\n",
            "Confirmed: \t9\n",
            "Tentative: \t5\n",
            "Rejected: \t64\n",
            "Iteration: \t55 / 100\n",
            "Confirmed: \t9\n",
            "Tentative: \t5\n",
            "Rejected: \t64\n",
            "Iteration: \t56 / 100\n",
            "Confirmed: \t9\n",
            "Tentative: \t5\n",
            "Rejected: \t64\n",
            "Iteration: \t57 / 100\n",
            "Confirmed: \t9\n",
            "Tentative: \t5\n",
            "Rejected: \t64\n",
            "Iteration: \t58 / 100\n",
            "Confirmed: \t9\n",
            "Tentative: \t5\n",
            "Rejected: \t64\n",
            "Iteration: \t59 / 100\n",
            "Confirmed: \t9\n",
            "Tentative: \t5\n",
            "Rejected: \t64\n",
            "Iteration: \t60 / 100\n",
            "Confirmed: \t9\n",
            "Tentative: \t5\n",
            "Rejected: \t64\n",
            "Iteration: \t61 / 100\n",
            "Confirmed: \t9\n",
            "Tentative: \t5\n",
            "Rejected: \t64\n",
            "Iteration: \t62 / 100\n",
            "Confirmed: \t9\n",
            "Tentative: \t5\n",
            "Rejected: \t64\n",
            "Iteration: \t63 / 100\n",
            "Confirmed: \t9\n",
            "Tentative: \t5\n",
            "Rejected: \t64\n",
            "Iteration: \t64 / 100\n",
            "Confirmed: \t9\n",
            "Tentative: \t5\n",
            "Rejected: \t64\n",
            "Iteration: \t65 / 100\n",
            "Confirmed: \t9\n",
            "Tentative: \t5\n",
            "Rejected: \t64\n",
            "Iteration: \t66 / 100\n",
            "Confirmed: \t9\n",
            "Tentative: \t5\n",
            "Rejected: \t64\n",
            "Iteration: \t67 / 100\n",
            "Confirmed: \t9\n",
            "Tentative: \t5\n",
            "Rejected: \t64\n",
            "Iteration: \t68 / 100\n",
            "Confirmed: \t9\n",
            "Tentative: \t5\n",
            "Rejected: \t64\n",
            "Iteration: \t69 / 100\n",
            "Confirmed: \t9\n",
            "Tentative: \t5\n",
            "Rejected: \t64\n",
            "Iteration: \t70 / 100\n",
            "Confirmed: \t9\n",
            "Tentative: \t4\n",
            "Rejected: \t65\n",
            "Iteration: \t71 / 100\n",
            "Confirmed: \t9\n",
            "Tentative: \t4\n",
            "Rejected: \t65\n",
            "Iteration: \t72 / 100\n",
            "Confirmed: \t9\n",
            "Tentative: \t4\n",
            "Rejected: \t65\n",
            "Iteration: \t73 / 100\n",
            "Confirmed: \t9\n",
            "Tentative: \t4\n",
            "Rejected: \t65\n",
            "Iteration: \t74 / 100\n",
            "Confirmed: \t9\n",
            "Tentative: \t4\n",
            "Rejected: \t65\n",
            "Iteration: \t75 / 100\n",
            "Confirmed: \t9\n",
            "Tentative: \t4\n",
            "Rejected: \t65\n",
            "Iteration: \t76 / 100\n",
            "Confirmed: \t9\n",
            "Tentative: \t4\n",
            "Rejected: \t65\n",
            "Iteration: \t77 / 100\n",
            "Confirmed: \t9\n",
            "Tentative: \t4\n",
            "Rejected: \t65\n",
            "Iteration: \t78 / 100\n",
            "Confirmed: \t9\n",
            "Tentative: \t4\n",
            "Rejected: \t65\n",
            "Iteration: \t79 / 100\n",
            "Confirmed: \t9\n",
            "Tentative: \t4\n",
            "Rejected: \t65\n",
            "Iteration: \t80 / 100\n",
            "Confirmed: \t9\n",
            "Tentative: \t4\n",
            "Rejected: \t65\n",
            "Iteration: \t81 / 100\n",
            "Confirmed: \t9\n",
            "Tentative: \t4\n",
            "Rejected: \t65\n",
            "Iteration: \t82 / 100\n",
            "Confirmed: \t9\n",
            "Tentative: \t4\n",
            "Rejected: \t65\n",
            "Iteration: \t83 / 100\n",
            "Confirmed: \t9\n",
            "Tentative: \t4\n",
            "Rejected: \t65\n",
            "Iteration: \t84 / 100\n",
            "Confirmed: \t9\n",
            "Tentative: \t4\n",
            "Rejected: \t65\n",
            "Iteration: \t85 / 100\n",
            "Confirmed: \t9\n",
            "Tentative: \t3\n",
            "Rejected: \t66\n",
            "Iteration: \t86 / 100\n",
            "Confirmed: \t9\n",
            "Tentative: \t3\n",
            "Rejected: \t66\n",
            "Iteration: \t87 / 100\n",
            "Confirmed: \t9\n",
            "Tentative: \t3\n",
            "Rejected: \t66\n",
            "Iteration: \t88 / 100\n",
            "Confirmed: \t9\n",
            "Tentative: \t3\n",
            "Rejected: \t66\n",
            "Iteration: \t89 / 100\n",
            "Confirmed: \t9\n",
            "Tentative: \t3\n",
            "Rejected: \t66\n",
            "Iteration: \t90 / 100\n",
            "Confirmed: \t10\n",
            "Tentative: \t2\n",
            "Rejected: \t66\n",
            "Iteration: \t91 / 100\n",
            "Confirmed: \t10\n",
            "Tentative: \t2\n",
            "Rejected: \t66\n",
            "Iteration: \t92 / 100\n",
            "Confirmed: \t10\n",
            "Tentative: \t2\n",
            "Rejected: \t66\n",
            "Iteration: \t93 / 100\n",
            "Confirmed: \t10\n",
            "Tentative: \t2\n",
            "Rejected: \t66\n",
            "Iteration: \t94 / 100\n",
            "Confirmed: \t10\n",
            "Tentative: \t2\n",
            "Rejected: \t66\n",
            "Iteration: \t95 / 100\n",
            "Confirmed: \t11\n",
            "Tentative: \t1\n",
            "Rejected: \t66\n",
            "Iteration: \t96 / 100\n",
            "Confirmed: \t11\n",
            "Tentative: \t1\n",
            "Rejected: \t66\n",
            "Iteration: \t97 / 100\n",
            "Confirmed: \t11\n",
            "Tentative: \t1\n",
            "Rejected: \t66\n",
            "Iteration: \t98 / 100\n",
            "Confirmed: \t11\n",
            "Tentative: \t1\n",
            "Rejected: \t66\n",
            "Iteration: \t99 / 100\n",
            "Confirmed: \t11\n",
            "Tentative: \t1\n",
            "Rejected: \t66\n",
            "\n",
            "\n",
            "BorutaPy finished running.\n",
            "\n",
            "Iteration: \t100 / 100\n",
            "Confirmed: \t11\n",
            "Tentative: \t0\n",
            "Rejected: \t66\n"
          ]
        },
        {
          "output_type": "execute_result",
          "data": {
            "text/plain": [
              "BorutaPy(estimator=RandomForestClassifier(max_depth=5, n_estimators=97,\n",
              "                                          random_state=RandomState(MT19937) at 0x7F0D67F788D0),\n",
              "         n_estimators='auto',\n",
              "         random_state=RandomState(MT19937) at 0x7F0D67F788D0, verbose=2)"
            ]
          },
          "metadata": {},
          "execution_count": 87
        }
      ]
    },
    {
      "cell_type": "code",
      "source": [
        "type(boruta_selector)"
      ],
      "metadata": {
        "colab": {
          "base_uri": "https://localhost:8080/"
        },
        "id": "NiHllL7e2Ehi",
        "outputId": "48e0d2f5-6509-4b88-c9cf-ba48870b86a3"
      },
      "execution_count": 88,
      "outputs": [
        {
          "output_type": "execute_result",
          "data": {
            "text/plain": [
              "boruta.boruta_py.BorutaPy"
            ]
          },
          "metadata": {},
          "execution_count": 88
        }
      ]
    },
    {
      "cell_type": "code",
      "source": [
        "print(\"Selected Features: \", boruta_selector.support_)    # check selected features"
      ],
      "metadata": {
        "colab": {
          "base_uri": "https://localhost:8080/"
        },
        "id": "3RA-8aAj3kWC",
        "outputId": "b466c58b-98af-47f2-c4d5-64d4aeb7a055"
      },
      "execution_count": 89,
      "outputs": [
        {
          "output_type": "stream",
          "name": "stdout",
          "text": [
            "Selected Features:  [False  True False False False False False False False False False False\n",
            " False False False False False False False False False False False False\n",
            " False  True False False False False False False False False False False\n",
            " False False False False False False False False  True False False  True\n",
            " False False False False False  True False False  True False False False\n",
            " False False  True False  True False False False  True False False False\n",
            " False False False False  True  True]\n"
          ]
        }
      ]
    },
    {
      "cell_type": "code",
      "source": [
        "print(\"Ranking: \",boruta_selector.ranking_)               # check ranking of features\n",
        "\n",
        "print(\"No. of significant features: \", boruta_selector.n_features_)"
      ],
      "metadata": {
        "colab": {
          "base_uri": "https://localhost:8080/"
        },
        "id": "LAbZX8VN3tAX",
        "outputId": "9c5d24ef-076f-48a7-a490-a7d3f103242f"
      },
      "execution_count": 90,
      "outputs": [
        {
          "output_type": "stream",
          "name": "stdout",
          "text": [
            "Ranking:  [28  1 66 60 65 35 63 58 53  4 63 48 46 42 33 40 30 62 25  2 44 23 50 54\n",
            " 27  1 57 36 32 55 23 61 45 37 47 68 41 11 34 55 26 39 52 67  1  8 19  1\n",
            " 16  6 28 58 42  1  9 38  1 30 51 49 22 15  1 20  1 14 13 18  1 20  5 17\n",
            " 12  3  6 10  1  1]\n",
            "No. of significant features:  11\n"
          ]
        }
      ]
    },
    {
      "cell_type": "markdown",
      "source": [
        "So boruta has selected 10 relavent features. (The features with a ranking of 1 are selected)."
      ],
      "metadata": {
        "id": "zFZSnLwCQbT6"
      }
    },
    {
      "cell_type": "code",
      "source": [
        "X_important_train = boruta_selector.transform(np.array(x_train))\n",
        "X_important_test = boruta_selector.transform(np.array(x_test))"
      ],
      "metadata": {
        "id": "PcCjpPxslkc0"
      },
      "execution_count": 91,
      "outputs": []
    },
    {
      "cell_type": "code",
      "source": [
        "X_important_train.shape"
      ],
      "metadata": {
        "colab": {
          "base_uri": "https://localhost:8080/"
        },
        "id": "QoOI6jDXQzhy",
        "outputId": "5d981ba2-6560-4686-dd73-1033ad99eb4a"
      },
      "execution_count": 92,
      "outputs": [
        {
          "output_type": "execute_result",
          "data": {
            "text/plain": [
              "(272, 11)"
            ]
          },
          "metadata": {},
          "execution_count": 92
        }
      ]
    },
    {
      "cell_type": "code",
      "source": [
        "rf_boruta = RandomForestClassifier(random_state=1, n_estimators=1000, max_depth=5)\n",
        "rf_boruta.fit(X_important_train, y_train)"
      ],
      "metadata": {
        "colab": {
          "base_uri": "https://localhost:8080/"
        },
        "id": "2EgkY0vOUhZc",
        "outputId": "72b5b8ae-4801-4f5e-ed85-f386156a3a1a"
      },
      "execution_count": 93,
      "outputs": [
        {
          "output_type": "execute_result",
          "data": {
            "text/plain": [
              "RandomForestClassifier(max_depth=5, n_estimators=1000, random_state=1)"
            ]
          },
          "metadata": {},
          "execution_count": 93
        }
      ]
    },
    {
      "cell_type": "code",
      "source": [
        "accuracy_score(y_test, rf_boruta.predict(X_important_test))"
      ],
      "metadata": {
        "colab": {
          "base_uri": "https://localhost:8080/"
        },
        "id": "BH4SJqLNUoVr",
        "outputId": "0ce5c46e-3364-455e-c67e-b80248f1e952"
      },
      "execution_count": 94,
      "outputs": [
        {
          "output_type": "execute_result",
          "data": {
            "text/plain": [
              "0.8709677419354839"
            ]
          },
          "metadata": {},
          "execution_count": 94
        }
      ]
    },
    {
      "cell_type": "code",
      "source": [
        "rf_hyper = RandomForestClassifier(random_state = 1)\n",
        "\n",
        "# Grid search cv\n",
        "grid_search = GridSearchCV(estimator = rf_hyper, param_grid = param_grid, \n",
        "                          cv = 2, n_jobs = -1, verbose = 2)"
      ],
      "metadata": {
        "id": "1GGs7eqsUsqD"
      },
      "execution_count": 95,
      "outputs": []
    },
    {
      "cell_type": "code",
      "source": [
        "grid_search.fit(X_important_train, y_train)"
      ],
      "metadata": {
        "colab": {
          "base_uri": "https://localhost:8080/"
        },
        "id": "25i40BehVBAl",
        "outputId": "0f63d060-7b86-4bb4-fbbf-505c2d847dcb"
      },
      "execution_count": 96,
      "outputs": [
        {
          "output_type": "stream",
          "name": "stdout",
          "text": [
            "Fitting 2 folds for each of 12 candidates, totalling 24 fits\n"
          ]
        },
        {
          "output_type": "execute_result",
          "data": {
            "text/plain": [
              "GridSearchCV(cv=2, estimator=RandomForestClassifier(random_state=1), n_jobs=-1,\n",
              "             param_grid={'bootstrap': [True, False], 'max_depth': [5, 10, 15],\n",
              "                         'n_estimators': [500, 1000]},\n",
              "             verbose=2)"
            ]
          },
          "metadata": {},
          "execution_count": 96
        }
      ]
    },
    {
      "cell_type": "code",
      "source": [
        "grid_search.best_params_"
      ],
      "metadata": {
        "colab": {
          "base_uri": "https://localhost:8080/"
        },
        "id": "6H0ssZruVDsW",
        "outputId": "1cd7ba0c-b84e-49e5-d1e5-8414b5c3270f"
      },
      "execution_count": 97,
      "outputs": [
        {
          "output_type": "execute_result",
          "data": {
            "text/plain": [
              "{'bootstrap': False, 'max_depth': 5, 'n_estimators': 500}"
            ]
          },
          "metadata": {},
          "execution_count": 97
        }
      ]
    },
    {
      "cell_type": "code",
      "source": [
        "accuracy_score(y_test, grid_search.predict(X_important_test))"
      ],
      "metadata": {
        "colab": {
          "base_uri": "https://localhost:8080/"
        },
        "id": "g0jw8N1zVME2",
        "outputId": "b1811cf2-146b-4044-adfc-6b6d9d0877f7"
      },
      "execution_count": 98,
      "outputs": [
        {
          "output_type": "execute_result",
          "data": {
            "text/plain": [
              "0.8709677419354839"
            ]
          },
          "metadata": {},
          "execution_count": 98
        }
      ]
    },
    {
      "cell_type": "code",
      "source": [
        ""
      ],
      "metadata": {
        "id": "nHgbCaxJVMrg"
      },
      "execution_count": 98,
      "outputs": []
    },
    {
      "cell_type": "markdown",
      "source": [
        "## DT-RFE"
      ],
      "metadata": {
        "id": "ccjhl4Q4VViC"
      }
    },
    {
      "cell_type": "markdown",
      "source": [
        "RFE is a wrapper-type feature selection algorithm. This means that a different machine learning algorithm is given and used in the core of the method, is wrapped by RFE, and used to help select features. This is in contrast to filter-based feature selections that score each feature and select those features with the largest (or smallest) score.\n",
        "\n",
        "Technically, RFE is a wrapper-style feature selection algorithm that also uses filter-based feature selection internally.\n",
        "\n",
        "RFE works by searching for a subset of features by starting with all features in the training dataset and successfully removing features until the desired number remains.\n",
        "\n",
        "This is achieved by fitting the given machine learning algorithm used in the core of the model, ranking features by importance, discarding the least important features, and re-fitting the model. This process is repeated until a specified number of features remains. *italicized text*"
      ],
      "metadata": {
        "id": "9GbDhBSwWISV"
      }
    },
    {
      "cell_type": "code",
      "source": [
        ""
      ],
      "metadata": {
        "id": "XprIcjocWm-5"
      },
      "execution_count": 98,
      "outputs": []
    },
    {
      "cell_type": "code",
      "source": [
        "print(sklearn.__version__)"
      ],
      "metadata": {
        "colab": {
          "base_uri": "https://localhost:8080/"
        },
        "id": "pazKbEe1VZyK",
        "outputId": "f53b018a-5b7b-4dad-f883-75ef16fee481"
      },
      "execution_count": 99,
      "outputs": [
        {
          "output_type": "stream",
          "name": "stdout",
          "text": [
            "1.0.2\n"
          ]
        }
      ]
    },
    {
      "cell_type": "markdown",
      "source": [
        "RFE is a transform. To use it, first the class is configured with the chosen algorithm specified via the “estimator” argument and the number of features to select via the “n_features_to_select” argument.\n",
        "\n",
        "The algorithm must provide a way to calculate important scores, such as a decision tree. The algorithm used in RFE does not have to be the algorithm that is fit on the selected features; different algorithms can be used.\n",
        "\n",
        "Once configured, the class must be fit on a training dataset to select the features by calling the fit() function. After the class is fit, the choice of input variables can be seen via the “support_” attribute that provides a True or False for each input variable."
      ],
      "metadata": {
        "id": "jPFV1RwIXcii"
      }
    },
    {
      "cell_type": "code",
      "source": [
        "rfecv = RFECV(DecisionTreeClassifier(),cv=StratifiedKFold(9))\n",
        "rfecv.fit(x_train,y_train)\n",
        "# check the support\n",
        "rfecv.get_support()"
      ],
      "metadata": {
        "colab": {
          "base_uri": "https://localhost:8080/"
        },
        "id": "6PndKp5RWhjh",
        "outputId": "74efa514-483d-4a46-f126-615c9b53e34c"
      },
      "execution_count": 100,
      "outputs": [
        {
          "output_type": "execute_result",
          "data": {
            "text/plain": [
              "array([False, False, False, False, False, False, False, False, False,\n",
              "       False, False, False, False, False, False, False, False, False,\n",
              "       False, False, False, False, False, False, False, False, False,\n",
              "       False, False, False, False, False, False, False, False, False,\n",
              "       False, False, False, False, False, False, False, False,  True,\n",
              "       False,  True,  True, False, False, False, False, False, False,\n",
              "       False, False,  True, False, False, False, False, False, False,\n",
              "       False, False,  True, False, False, False, False, False, False,\n",
              "       False, False, False, False, False,  True])"
            ]
          },
          "metadata": {},
          "execution_count": 100
        }
      ]
    },
    {
      "cell_type": "code",
      "source": [
        " x_train_rfe = rfecv.transform(x_train)\n",
        " x_tets_rfe = rfecv.transform(x_test)"
      ],
      "metadata": {
        "id": "TZeT8KKhX9Up"
      },
      "execution_count": 101,
      "outputs": []
    },
    {
      "cell_type": "code",
      "source": [
        "#decision tree classifier\n",
        "dt_clf=DecisionTreeClassifier()\n",
        "dt_clf.fit(x_train_rfe,y_train)\n",
        "dtree_pred=dt_clf.predict(x_tets_rfe)\n",
        "print(\"MEAN SQUARE ERROR: \",mean_squared_error(y_test,dtree_pred))\n",
        "print(\"ACCURACY SCORE: \",accuracy_score(y_test,dtree_pred))\n",
        "print(confusion_matrix(y_test,dtree_pred))"
      ],
      "metadata": {
        "colab": {
          "base_uri": "https://localhost:8080/"
        },
        "id": "rd23KwC6gcX4",
        "outputId": "53acf0ca-9d42-4676-9229-2777849f5986"
      },
      "execution_count": 102,
      "outputs": [
        {
          "output_type": "stream",
          "name": "stdout",
          "text": [
            "MEAN SQUARE ERROR:  0.25806451612903225\n",
            "ACCURACY SCORE:  0.7419354838709677\n",
            "[[ 3  5]\n",
            " [ 3 20]]\n"
          ]
        }
      ]
    },
    {
      "cell_type": "code",
      "source": [
        ""
      ],
      "metadata": {
        "id": "V3qH_7jNwEja"
      },
      "execution_count": 102,
      "outputs": []
    },
    {
      "cell_type": "markdown",
      "source": [
        "## gradient boosting "
      ],
      "metadata": {
        "id": "6fBPt9P663NU"
      }
    },
    {
      "cell_type": "markdown",
      "source": [
        "Gradient boosting classifiers are a group of machine learning algorithms that combine many weak learning models together to create a strong predictive model. Decision trees are usually used when doing gradient boosting. "
      ],
      "metadata": {
        "id": "0BZdRpwZ-BUl"
      }
    },
    {
      "cell_type": "code",
      "source": [
        "lr_list = [0.05, 0.075, 0.1, 0.25, 0.5, 0.75, 1]\n",
        "\n",
        "for learning_rate in lr_list:\n",
        "    gb_clf = GradientBoostingClassifier(n_estimators=20, learning_rate=learning_rate, max_features=15, max_depth=2, random_state=0)\n",
        "    gb_clf.fit(x_train, y_train)\n",
        "\n",
        "    print(\"Learning rate: \", learning_rate)\n",
        "    print(\"Accuracy score (training): {0:.3f}\".format(gb_clf.score(x_train, y_train)))\n",
        "    print(\"Accuracy score (validation): {0:.3f}\".format(gb_clf.score(x_test, y_test)))"
      ],
      "metadata": {
        "colab": {
          "base_uri": "https://localhost:8080/"
        },
        "id": "N2pKBaqZ66BX",
        "outputId": "ac94219f-213b-4926-9746-bb03a77f81fd"
      },
      "execution_count": 103,
      "outputs": [
        {
          "output_type": "stream",
          "name": "stdout",
          "text": [
            "Learning rate:  0.05\n",
            "Accuracy score (training): 0.816\n",
            "Accuracy score (validation): 0.839\n",
            "Learning rate:  0.075\n",
            "Accuracy score (training): 0.868\n",
            "Accuracy score (validation): 0.871\n",
            "Learning rate:  0.1\n",
            "Accuracy score (training): 0.890\n",
            "Accuracy score (validation): 0.871\n",
            "Learning rate:  0.25\n",
            "Accuracy score (training): 0.938\n",
            "Accuracy score (validation): 0.903\n",
            "Learning rate:  0.5\n",
            "Accuracy score (training): 0.982\n",
            "Accuracy score (validation): 0.968\n",
            "Learning rate:  0.75\n",
            "Accuracy score (training): 0.996\n",
            "Accuracy score (validation): 0.871\n",
            "Learning rate:  1\n",
            "Accuracy score (training): 0.996\n",
            "Accuracy score (validation): 0.871\n"
          ]
        }
      ]
    },
    {
      "cell_type": "code",
      "source": [
        "gb_clf2 = GradientBoostingClassifier(n_estimators=20, learning_rate=0.5, max_features=15, max_depth=2, random_state=0)\n",
        "gb_clf2.fit(x_train, y_train)\n",
        "predictions = gb_clf2.predict(x_test)\n",
        "\n",
        "print(\"Confusion Matrix:\")\n",
        "print(confusion_matrix(y_test, predictions))\n",
        "\n",
        "print(\"Classification Report\")\n",
        "print(classification_report(y_test, predictions))"
      ],
      "metadata": {
        "colab": {
          "base_uri": "https://localhost:8080/"
        },
        "id": "a8_QtKaz8K5j",
        "outputId": "4b028237-271a-4701-b85e-fd1392a97918"
      },
      "execution_count": 104,
      "outputs": [
        {
          "output_type": "stream",
          "name": "stdout",
          "text": [
            "Confusion Matrix:\n",
            "[[ 7  1]\n",
            " [ 0 23]]\n",
            "Classification Report\n",
            "              precision    recall  f1-score   support\n",
            "\n",
            "           0       1.00      0.88      0.93         8\n",
            "           1       0.96      1.00      0.98        23\n",
            "\n",
            "    accuracy                           0.97        31\n",
            "   macro avg       0.98      0.94      0.96        31\n",
            "weighted avg       0.97      0.97      0.97        31\n",
            "\n"
          ]
        }
      ]
    },
    {
      "cell_type": "code",
      "source": [
        ""
      ],
      "metadata": {
        "id": "sjG8g9-m9Y5_"
      },
      "execution_count": 104,
      "outputs": []
    }
  ]
}